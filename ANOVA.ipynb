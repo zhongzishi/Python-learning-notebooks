{
 "cells": [
  {
   "cell_type": "markdown",
   "metadata": {},
   "source": [
    "# ONE-WAY ANOVA"
   ]
  },
  {
   "cell_type": "markdown",
   "metadata": {},
   "source": [
    "### Sum of squares total\n",
    "\n",
    "$\\large \\displaystyle SST=\\sum_{j=1}^c\\sum_{i=1}^{n_j}(X_{ij} - \\overline{\\overline{X}})^2$\n",
    "\n",
    "\n",
    "$where$\n",
    "\n",
    "$c = number\\ of\\ groups$\n",
    "\n",
    "$n = number\\ of\\ elements\\ in\\ combined\\ groups$\n",
    "\n",
    "$\\overline{\\overline{X}}=\\ grand\\ mean$"
   ]
  },
  {
   "cell_type": "markdown",
   "metadata": {},
   "source": [
    "### Sum of squares with-in group\n",
    "\n",
    "$\\large \\displaystyle SSW = \\sum_{j=1}^c\\sum_{i=1}^{n_j}(X_{ij} - \\overline{X}_j)^2$\n",
    "\n",
    "$where$\n",
    "\n",
    "$c = number\\ of\\ groups$\n",
    "\n",
    "$n = number\\ of\\ elements\\ in\\ combined\\ groups$\n",
    "\n",
    "$\\overline{X}_j = mean\\ in\\ group\\ j$"
   ]
  },
  {
   "cell_type": "markdown",
   "metadata": {},
   "source": [
    "### Sum of squares among groups (AKA Sum of squares between groups SSB)\n",
    "\n",
    "$\\large \\displaystyle SSA=\\sum_{j=1}^cn_j(\\overline{X_j} - \\overline{\\overline {X_j}})^2$\n",
    "\n",
    "$where$\n",
    "\n",
    "$c = number\\ of\\ groups$\n",
    "\n",
    "$n_j = number\\ of\\ elements\\ in\\ group\\ j$\n",
    "\n",
    "$\\overline{X}_j = mean\\ in\\ group\\ j$\n",
    "\n",
    "$\\overline{\\overline{X}}=\\ grand\\ mean$"
   ]
  },
  {
   "cell_type": "markdown",
   "metadata": {},
   "source": [
    "### Mean square among groups\n",
    "\n",
    "$\\large \\displaystyle MSA=\\frac {SSA}{c-1}$\n",
    "\n",
    "### Mean square with-in groups\n",
    "\n",
    "$\\large \\displaystyle MSW = \\frac {SSW}{n-c}$\n",
    "\n",
    "\n",
    "### F test\n",
    "\n",
    "$\\large \\displaystyle F_{STAT} = \\frac{MSA}{MSW}$\n",
    "\n",
    "Note: F test can only signify significant difference but can not tell which ones differ."
   ]
  },
  {
   "cell_type": "markdown",
   "metadata": {},
   "source": [
    "## Critical Range for the Tukey-Kramer Procedure\n",
    "\n",
    "$\\large \\displaystyle Critical\\ range = Q_a\\sqrt{\\frac{MSW}{2}(\\frac{1}{n_j}+\\frac{1}{n'_{j}})}$"
   ]
  },
  {
   "cell_type": "markdown",
   "metadata": {},
   "source": [
    "1, Compute the absolut mean differences, $|\\overline{X}_j-\\overline{X}_{j'}|$ among all c(c-1)/2 pairs of sample means.\n",
    "\n",
    "2, Compute the Critical range.\n",
    "\n",
    "3, Compare each of c(c-1)/2 pairs of means against its corresponding critical range. If the absolute difference is greater than the critical range"
   ]
  },
  {
   "cell_type": "code",
   "execution_count": null,
   "metadata": {
    "collapsed": true
   },
   "outputs": [],
   "source": []
  }
 ],
 "metadata": {
  "kernelspec": {
   "display_name": "Python 3",
   "language": "python",
   "name": "python3"
  },
  "language_info": {
   "codemirror_mode": {
    "name": "ipython",
    "version": 3
   },
   "file_extension": ".py",
   "mimetype": "text/x-python",
   "name": "python",
   "nbconvert_exporter": "python",
   "pygments_lexer": "ipython3",
   "version": "3.6.1"
  }
 },
 "nbformat": 4,
 "nbformat_minor": 2
}
