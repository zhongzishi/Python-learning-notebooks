{
 "cells": [
  {
   "cell_type": "markdown",
   "metadata": {},
   "source": [
    "$\\large h_\\theta(x)=\\sum_{j=0}^n\\theta_jx_j$"
   ]
  },
  {
   "cell_type": "markdown",
   "metadata": {},
   "source": [
    "## Stochastic gradient descent\n",
    "$\\large cost(\\theta,(x^{(i)},y^{(i)}))=\\frac1{2}(h_\\theta(x^{(i)})-y^{(i)})^2$\n",
    "\n",
    "$\\large J_{train}(\\theta)=\\frac1{m}\\sum_{i=1}^mcost(\\theta,(x^{(i)},y^{(i)}))$"
   ]
  },
  {
   "cell_type": "code",
   "execution_count": 1,
   "metadata": {},
   "outputs": [
    {
     "ename": "SyntaxError",
     "evalue": "invalid syntax (<ipython-input-1-f65086b83b7e>, line 1)",
     "output_type": "error",
     "traceback": [
      "\u001b[1;36m  File \u001b[1;32m\"<ipython-input-1-f65086b83b7e>\"\u001b[1;36m, line \u001b[1;32m1\u001b[0m\n\u001b[1;33m    for i range(m):\u001b[0m\n\u001b[1;37m              ^\u001b[0m\n\u001b[1;31mSyntaxError\u001b[0m\u001b[1;31m:\u001b[0m invalid syntax\n"
     ]
    }
   ],
   "source": [
    "for i range(m):\n",
    "    diff = y[i,0] - h(theta,X[i].T)\n",
    "    for j in range(n):\n",
    "        theta[j,0] = theta[j,0] - alpha*diff*X[i,j]"
   ]
  },
  {
   "cell_type": "markdown",
   "metadata": {},
   "source": [
    "## Normal Equation\n",
    "$\\large \\theta=(X^TX)^{-1}X^Ty$"
   ]
  },
  {
   "cell_type": "markdown",
   "metadata": {},
   "source": [
    "## Standardization\n",
    "\n",
    "$\\large \\frac {feature-mean}{std}$"
   ]
  },
  {
   "cell_type": "markdown",
   "metadata": {},
   "source": [
    "## Normalization\n",
    "$\\large \\frac {feature - min}{max - min}$"
   ]
  },
  {
   "cell_type": "markdown",
   "metadata": {},
   "source": [
    "## Batch gradient descent\n",
    "\n",
    "$\\large \\displaystyle J(\\theta)=\\frac1{2m}\\sum_{i=1}^m(h_\\theta(x^{(i)})-y^{(i)})^2$\n",
    "\n",
    "$\\large \\theta_j = \\theta_j - \\alpha\\frac{\\partial}{\\partial\\theta_j}J(\\theta)$\n",
    "\n",
    "$\\large \\theta_j:= \\theta_j-\\alpha\\frac1{m}\\sum_{i=1}^m(h_\\theta(x^{(i)})-y^{(i)})x_j^{(i)}$ for every j=0,...,n"
   ]
  },
  {
   "cell_type": "code",
   "execution_count": null,
   "metadata": {
    "collapsed": true
   },
   "outputs": [],
   "source": [
    "def J(theta,X,y):\n",
    "    m = len(X)\n",
    "    return np.power((X*theta-y),2)/(2*m)\n",
    "\n",
    "for j in range(n):\n",
    "    deriv = (X*theta-y).T*X[:,j/m]\n",
    "    theta[:,j] = theta[:,j]-alpha*deriv\n",
    "error = J(theta,X,y)"
   ]
  },
  {
   "cell_type": "markdown",
   "metadata": {},
   "source": [
    "## Weighted linear regression\n",
    "\n",
    "$\\large J(\\theta)=\\sum_{i}w^{(i)}(y^{(i)}-\\theta^TX^{(i)})^2$\n",
    "\n",
    "$\\Large w^{(i)} = exp\\left(-\\frac{(x^{(i)}-x)^2}{2k^2}\\right)$\n",
    "\n",
    "$\\large \\theta = (X^TWX)^{-1}X^TWy$"
   ]
  },
  {
   "cell_type": "code",
   "execution_count": null,
   "metadata": {
    "collapsed": true
   },
   "outputs": [],
   "source": [
    "def Jwlr(theta,X,y,x,k):\n",
    "    m,n = X.shape\n",
    "    total=0\n",
    "    for i in range(m):\n",
    "        diff=np.power(X[i]-x,2)\n",
    "        w = np.exp(-diff/2*(k**2))\n",
    "        predictDiff = np.power(y[i]-X[i]*theta,2)\n",
    "        total=total+w*predictDiff\n",
    "    return total\n",
    "\n",
    "def wlr(alpha,maxIter,epsilon,X,y,x,k=1):\n",
    "    m,n = X.shape\n",
    "    theta = np.zeros((n,1))\n",
    "    count = 0\n",
    "    converged = False\n",
    "    error = float('inf')\n",
    "    errors = []\n",
    "    thetas = {}\n",
    "    for j in range(n):\n",
    "        theta[j] = [theta[j,0]]\n",
    "    while count < maxIter:\n",
    "        if (converged):\n",
    "            break\n",
    "        count+=1\n",
    "        for j in range(n):\n",
    "            derive = (y - X*theta).T*X[:,j]/m\n",
    "            theta[j,0] = theta[j,0]+alpha*derive\n",
    "            thetas[j].append(theta[j,0])\n",
    "        error = Jwlr(theta,X,y,x,k)\n",
    "        errors.append(error[0,0])\n",
    "        if (error<epsilon):\n",
    "            converged = True\n",
    "    return theta,errors,thetas"
   ]
  },
  {
   "cell_type": "markdown",
   "metadata": {},
   "source": [
    "## Logical Regression\n",
    "\n",
    "$\\Large h(\\theta)=g(z)$\n",
    "\n",
    "$\\Large g(z)=\\frac1{1+e^{-\\theta X}}$\n",
    "\n",
    "$\\Large J(\\theta) = -\\frac1{m}\\sum_{i=1}^m[y^{(i)}log(h_\\theta(x^{(i)}))+(1-y^{(i)})log(1-h_\\theta(x^{(i)}))] + \\frac \\lambda{2m}\\sum_{j=1}^n\\theta_j^2$\n",
    "\n",
    "#### OR\n",
    "\n",
    "$\\large J(\\theta)=\\frac{1}{m}\\sum\\limits_{i=1}^{m}y^{(i)}logh_0(x^{(i)})+(1-y^{(i)})log(1-h_\\theta(x^{(i)}))+\\frac{\\lambda}{2m}\\sum\\limits_{j=1}^{n}\\theta_j^2$\n",
    "\n",
    "\n",
    "$\\large =\\frac{1}{m}\\big((\\,log\\,(g(X\\theta))^Ty+(\\,log\\,(1-g(X\\theta))^T(1-y)\\big) + \\frac{\\lambda}{2m}\\sum_{j=1}^{n}\\theta_{j}^{2}$\n",
    "\n",
    "\n",
    "\n",
    "### BGD:\n",
    "\n",
    "$\\large \\displaystyle \\theta=\\theta+\\alpha*\\frac1{m}X^T(y-g(X\\theta))$\n",
    "\n",
    "\n",
    "### SGD:\n",
    "\n",
    "\n",
    "\\begin{align*}\n",
    "&\\mbox{重复直到收敛（Repeat until convergence）:} \\\\\n",
    "& \\quad \\mbox{for $i=1$ to m}: \\\\\n",
    "& \\quad \\quad \\theta = \\theta+\\alpha*(y_i-h_\\theta(x^{(i)}))x_j^{(i)}\n",
    "\\end{align*}\n"
   ]
  },
  {
   "cell_type": "markdown",
   "metadata": {},
   "source": [
    "### regularization\n",
    "\n",
    "$\\Large \\theta=\\theta-\\alpha*(\\frac1{m}X^T(y-g(X\\theta))+\\frac{\\lambda}{m}\\theta_j$\n",
    "\n",
    "\n",
    "$j\\not=0$"
   ]
  },
  {
   "cell_type": "code",
   "execution_count": null,
   "metadata": {
    "collapsed": true
   },
   "outputs": [],
   "source": []
  }
 ],
 "metadata": {
  "kernelspec": {
   "display_name": "Python 3",
   "language": "python",
   "name": "python3"
  },
  "language_info": {
   "codemirror_mode": {
    "name": "ipython",
    "version": 3
   },
   "file_extension": ".py",
   "mimetype": "text/x-python",
   "name": "python",
   "nbconvert_exporter": "python",
   "pygments_lexer": "ipython3",
   "version": "3.6.1"
  }
 },
 "nbformat": 4,
 "nbformat_minor": 2
}
