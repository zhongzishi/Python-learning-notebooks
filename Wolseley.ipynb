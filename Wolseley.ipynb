{
 "cells": [
  {
   "cell_type": "code",
   "execution_count": 1,
   "metadata": {
    "collapsed": true
   },
   "outputs": [],
   "source": [
    "%matplotlib inline\n",
    "import pandas as pd\n",
    "import matplotlib.pyplot as plt\n",
    "import matplotlib.dates\n",
    "import numpy as np"
   ]
  },
  {
   "cell_type": "code",
   "execution_count": 2,
   "metadata": {},
   "outputs": [],
   "source": [
    "log_file = r'C:\\Users\\Zishi\\Downloads\\testdata.log'\n",
    "fields = ['date', 'time', 's-sitename', 's-computername', 's-ip', 'cs-method',\n",
    "          'url', 'cs-uri-query', 's-port', 'cs-username', 'c-ip', 'cs-version',\n",
    "          'cs(User-Agent)', 'cs(Cookie)', 's(Referer)', 'cs-host', 'status',\n",
    "          'sc-substatus', 'sc-win32-status', 'sc-bytes', 'cs-bytes', 'timetaken']\n",
    "temp = pd.read_csv(log_file, sep=r'\\s+', names=fields,\n",
    "                   skiprows=4, parse_dates={'datetime':[0,1]},low_memory=False,\n",
    "                   usecols=['date', 'time', 'url', 'status', 'timetaken'])"
   ]
  },
  {
   "cell_type": "code",
   "execution_count": 3,
   "metadata": {},
   "outputs": [
    {
     "data": {
      "image/png": "[encoded data removed]",
      "text/plain": [
       "<matplotlib.figure.Figure at 0x1aa7e84e668>"
      ]
     },
     "metadata": {},
     "output_type": "display_data"
    }
   ],
   "source": [
    "df = pd.DataFrame(temp)\n",
    "#missing = df[df.isnull().any(axis=1)]\n",
    "#print(missing)\n",
    "plt.plot_date(df.datetime,df.timetaken)\n",
    "plt.show()\n",
    "#df['parsedtime'] = matplotlib.dates.datestr2num(df.datetime)\n",
    "#print(df.parsedtime)"
   ]
  },
  {
   "cell_type": "code",
   "execution_count": null,
   "metadata": {
    "collapsed": true
   },
   "outputs": [],
   "source": []
  }
 ],
 "metadata": {
  "kernelspec": {
   "display_name": "Python 3",
   "language": "python",
   "name": "python3"
  },
  "language_info": {
   "codemirror_mode": {
    "name": "ipython",
    "version": 3
   },
   "file_extension": ".py",
   "mimetype": "text/x-python",
   "name": "python",
   "nbconvert_exporter": "python",
   "pygments_lexer": "ipython3",
   "version": "3.6.0"
  }
 },
 "nbformat": 4,
 "nbformat_minor": 2
}
