{
 "cells": [
  {
   "cell_type": "markdown",
   "metadata": {},
   "source": [
    "# Movies: User Rating analysis"
   ]
  },
  {
   "cell_type": "markdown",
   "metadata": {},
   "source": [
    "**u.data structure**: user id | item id | rating | timestamp\n",
    "\n",
    "**u.user structure**: user id | age | gender | occupation | zip code\n",
    "\n",
    "**u.item structure**: movie id | movie title | release date | video release date |IMDb URL | unknown | Action | Adventure | Animation | Children's | Comedy | Crime | Documentary | Drama | Fantasy |Film-Noir | Horror | Musical | Mystery | Romance | Sci-Fi |Thriller | War | Western |"
   ]
  },
  {
   "cell_type": "markdown",
   "metadata": {},
   "source": [
    "## 1. Standard deviation of ratings by gender"
   ]
  },
  {
   "cell_type": "code",
   "execution_count": 1,
   "metadata": {
    "collapsed": true
   },
   "outputs": [],
   "source": [
    "# three time modules won't be used that much, nice to have.\n",
    "import numpy as np\n",
    "import pandas as pd\n",
    "import time\n",
    "from datetime import datetime\n",
    "from datetime import date"
   ]
  },
  {
   "cell_type": "code",
   "execution_count": 2,
   "metadata": {},
   "outputs": [
    {
     "data": {
      "text/html": [
       "<div>\n",
       "<table border=\"1\" class=\"dataframe\">\n",
       "  <thead>\n",
       "    <tr style=\"text-align: right;\">\n",
       "      <th></th>\n",
       "      <th>rating</th>\n",
       "    </tr>\n",
       "    <tr>\n",
       "      <th>gender</th>\n",
       "      <th></th>\n",
       "    </tr>\n",
       "  </thead>\n",
       "  <tbody>\n",
       "    <tr>\n",
       "      <th>F</th>\n",
       "      <td>1.170951</td>\n",
       "    </tr>\n",
       "    <tr>\n",
       "      <th>M</th>\n",
       "      <td>1.109556</td>\n",
       "    </tr>\n",
       "  </tbody>\n",
       "</table>\n",
       "</div>"
      ],
      "text/plain": [
       "          rating\n",
       "gender          \n",
       "F       1.170951\n",
       "M       1.109556"
      ]
     },
     "execution_count": 2,
     "metadata": {},
     "output_type": "execute_result"
    }
   ],
   "source": [
    "# create a DataFrame from table: u.data\n",
    "data_names = ['userid','itemid','rating','timestamp']\n",
    "udata = pd.read_table(r'C:\\Users\\Zishi\\Downloads\\ml-100k\\u.data',sep='\\t',names=data_names)\n",
    "# create a DataFrame from table: u.user\n",
    "user_names = ['userid','age','gender','occupation','zipcode']\n",
    "uuser = pd.read_table(r'C:\\Users\\Zishi\\Downloads\\ml-100k\\u.user',sep='|',names=user_names)\n",
    "# merge both dataframes on key \"userid\"\n",
    "userdata = pd.merge(uuser,udata,how='inner',on='userid')\n",
    "# create a new dataframe containing only \"gender\" and \"rating\"\n",
    "genderdata = userdata[['gender','rating']]\n",
    "# use pivot table to culculate standard deviation\n",
    "pivot = pd.pivot_table(genderdata,index=['gender'],values=['rating'],aggfunc='std')\n",
    "pivot"
   ]
  },
  {
   "cell_type": "code",
   "execution_count": null,
   "metadata": {
    "collapsed": true
   },
   "outputs": [],
   "source": []
  }
 ],
 "metadata": {
  "kernelspec": {
   "display_name": "Python 3",
   "language": "python",
   "name": "python3"
  },
  "language_info": {
   "codemirror_mode": {
    "name": "ipython",
    "version": 3
   },
   "file_extension": ".py",
   "mimetype": "text/x-python",
   "name": "python",
   "nbconvert_exporter": "python",
   "pygments_lexer": "ipython3",
   "version": "3.6.0"
  }
 },
 "nbformat": 4,
 "nbformat_minor": 2
}
