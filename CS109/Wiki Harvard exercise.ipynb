{
 "cells": [
  {
   "cell_type": "code",
   "execution_count": 1,
   "metadata": {},
   "outputs": [],
   "source": [
    "%matplotlib inline\n",
    "import numpy as np\n",
    "import pandas as pd\n",
    "import matplotlib.pyplot as plt\n",
    "from bs4 import BeautifulSoup\n",
    "import re\n",
    "import urllib.request"
   ]
  },
  {
   "cell_type": "code",
   "execution_count": 2,
   "metadata": {},
   "outputs": [],
   "source": [
    "page = urllib.request.urlopen(\"https://en.wikipedia.org/wiki/Harvard_University\").read()\n",
    "soup = BeautifulSoup(page,'lxml')"
   ]
  },
  {
   "cell_type": "code",
   "execution_count": 3,
   "metadata": {},
   "outputs": [
    {
     "name": "stdout",
     "output_type": "stream",
     "text": [
      "[['infobox', 'vcard'], ['toccolours'], ['plainlinks', 'metadata', 'ambox', 'mbox-small-left', 'ambox-content'], ['infobox'], ['wikitable'], ['nowraplinks', 'collapsible', 'collapsed', 'navbox-inner'], ['nowraplinks', 'navbox-subgroup'], ['nowraplinks', 'navbox-subgroup'], ['nowraplinks', 'collapsible', 'collapsed', 'navbox-inner'], ['nowraplinks', 'collapsible', 'autocollapse', 'navbox-inner'], ['nowraplinks', 'collapsible', 'autocollapse', 'navbox-inner'], ['nowraplinks', 'collapsible', 'autocollapse', 'navbox-inner'], ['nowraplinks', 'collapsible', 'autocollapse', 'navbox-inner'], ['nowraplinks', 'collapsible', 'autocollapse', 'navbox-inner'], ['nowraplinks', 'collapsible', 'autocollapse', 'navbox-inner'], ['nowraplinks', 'hlist', 'collapsible', 'autocollapse', 'navbox-inner'], ['nowraplinks', 'collapsible', 'autocollapse', 'navbox-inner'], ['nowraplinks', 'collapsible', 'autocollapse', 'navbox-inner'], ['nowraplinks', 'hlist', 'collapsible', 'autocollapse', 'navbox-inner'], ['nowraplinks', 'hlist', 'navbox-inner']]\n"
     ]
    }
   ],
   "source": [
    "#classlist = soup.find_all('table')\n",
    "classlist = [t['class'] for t in soup.find_all('table') if t.get('class')]\n",
    "print(classlist)"
   ]
  },
  {
   "cell_type": "code",
   "execution_count": 4,
   "metadata": {},
   "outputs": [
    {
     "name": "stdout",
     "output_type": "stream",
     "text": [
      "<tr>\n",
      "<th></th>\n",
      "<th>Undergraduate</th>\n",
      "<th>Graduate<br/>\n",
      "and Professional</th>\n",
      "<th>U.S. Census</th>\n",
      "</tr>\n"
     ]
    }
   ],
   "source": [
    "tabletext = str(soup.find(class_='wikitable'))\n",
    "rows = [r for r in soup.find(class_='wikitable').find_all('tr')]\n",
    "print(rows[0])"
   ]
  },
  {
   "cell_type": "code",
   "execution_count": 5,
   "metadata": {},
   "outputs": [
    {
     "name": "stdout",
     "output_type": "stream",
     "text": [
      "['Undergraduate', 'Graduate and Professional', 'U.S. Census']\n"
     ]
    }
   ],
   "source": [
    "remove_n = lambda s:s.replace('\\n',' ')\n",
    "columns = [remove_n(c.get_text()) for c in rows[0].find_all('th') if c.get_text()]\n",
    "print(columns)"
   ]
  },
  {
   "cell_type": "code",
   "execution_count": 6,
   "metadata": {},
   "outputs": [
    {
     "name": "stdout",
     "output_type": "stream",
     "text": [
      "['Asian/Pacific Islander', 'Black/Non-Hispanic', 'Hispanics of any race', 'White/non-Hispanic', 'Mixed Race/Other', 'International students']\n"
     ]
    }
   ],
   "source": [
    "indexes= [r.find('th').get_text() for r in rows[1:]]\n",
    "print(indexes)"
   ]
  },
  {
   "cell_type": "code",
   "execution_count": 7,
   "metadata": {},
   "outputs": [
    {
     "name": "stdout",
     "output_type": "stream",
     "text": [
      "['17%', '11%', '5%', '6%', '4%', '12%', '9%', '5%', '16%', '46%', '43%', '64%', '10%', '8%', '9%', '11%', '27%', 'N/A']\n"
     ]
    }
   ],
   "source": [
    "percentage = [p.get_text() for r in rows[1:] for p in r.find_all('td')]\n",
    "print(percentage)"
   ]
  },
  {
   "cell_type": "code",
   "execution_count": 8,
   "metadata": {},
   "outputs": [],
   "source": [
    "to_num = lambda s : s[-1] == '%' and int(s[:-1]) or None\n",
    "numbers = [to_num(s) for s in percentage]"
   ]
  },
  {
   "cell_type": "code",
   "execution_count": 9,
   "metadata": {},
   "outputs": [],
   "source": [
    "stacked_values = np.asarray(numbers).reshape(6,3)\n",
    "#stacked_values = list(zip(*[numbers[i::3] for i in range(len(columns))]))"
   ]
  },
  {
   "cell_type": "code",
   "execution_count": 10,
   "metadata": {},
   "outputs": [],
   "source": [
    "df = pd.DataFrame(stacked_values, columns=columns, index=indexes)\n",
    "#data_dict = [{col:val for col,val in list(zip(columns,col_values))} for col_values in stacked_values]\n",
    "#df = pd.DataFrame(data_dict,index=indexes)"
   ]
  },
  {
   "cell_type": "code",
   "execution_count": 11,
   "metadata": {},
   "outputs": [
    {
     "data": {
      "text/plain": [
       "<matplotlib.axes._subplots.AxesSubplot at 0x1d89adc9438>"
      ]
     },
     "execution_count": 11,
     "metadata": {},
     "output_type": "execute_result"
    },
    {
     "data": {
      "image/png": "[encoded data removed]",
      "text/plain": [
       "<matplotlib.figure.Figure at 0x1d89ada6be0>"
      ]
     },
     "metadata": {},
     "output_type": "display_data"
    }
   ],
   "source": [
    "df.plot(kind='bar')"
   ]
  },
  {
   "cell_type": "code",
   "execution_count": null,
   "metadata": {
    "collapsed": true
   },
   "outputs": [],
   "source": []
  }
 ],
 "metadata": {
  "kernelspec": {
   "display_name": "Python 3",
   "language": "python",
   "name": "python3"
  },
  "language_info": {
   "codemirror_mode": {
    "name": "ipython",
    "version": 3
   },
   "file_extension": ".py",
   "mimetype": "text/x-python",
   "name": "python",
   "nbconvert_exporter": "python",
   "pygments_lexer": "ipython3",
   "version": "3.6.0"
  }
 },
 "nbformat": 4,
 "nbformat_minor": 2
}
