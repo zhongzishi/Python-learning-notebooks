{
 "cells": [
  {
   "cell_type": "markdown",
   "metadata": {},
   "source": [
    "## KMeans\n",
    "\n",
    "K = The char to represent number of clusters.\n",
    "\n",
    "Means = The tool to measure/ameliorate clustering."
   ]
  },
  {
   "cell_type": "markdown",
   "metadata": {},
   "source": [
    "### KMeans and MLE(Maximum Likelihood Estimation)\n",
    "\n",
    "Basically, MLE is the method of estimating parameters of a given model with observations $x_1,x_2...x_n$ and unknown $\\mu$ of population, by finding the parameter values that maximize the likelihood of making the observations given the parameters. \n",
    "\n",
    "$Observations = x_1,x_2...x_n$\n",
    "\n",
    "$\\theta = unknown\\ parameters$\n",
    "\n",
    "$\\displaystyle f(x_1,x_2...x_n|\\theta) = f(x_1|\\theta)*f(x_2|\\theta)...*f(x_n|\\theta)$\n",
    "\n",
    "$\\displaystyle L(\\theta|x_1,x_2...x_n) = \\prod_{i=1}^n f(x_n|\\theta)$\n",
    "\n",
    "$\\displaystyle ln L(\\theta|x_1,x_2...x_n) = ln \\sum_{i=1}^n f(x_n|\\theta)$ : *Use log() to transform $\\prod$ to $\\sum$*\n",
    "\n",
    "*Under Gaussian Distribution*\n",
    "\n",
    "$\\displaystyle M = f(x) = \\frac 1{(\\sqrt{2\\pi \\sigma^2})}exp(-\\frac{(x-\\mu)^2}{2\\sigma^2})$\n",
    "\n",
    "$\\displaystyle P(x_1,X_2...X_n|M) = \\left(\\frac 1{(\\sqrt{2\\pi \\sigma^2})}\\right)^n exp\\left(-\\frac{1}{2\\sigma^2}\\sum_{i=1}^n(x-\\mu)^2\\right)$"
   ]
  },
  {
   "cell_type": "markdown",
   "metadata": {},
   "source": [
    "### KMeans steps\n",
    "\n",
    "1, Randomly generate $k$ centroids\n",
    "\n",
    "2, Compute $Euclidean\\ distance$ between point $x_1$ to each centroids, repeat for each point\n",
    "\n",
    "3, Assign the point to the cluster whose centroid has minimum distance between them\n",
    "\n",
    "4, After the 1st iteration, for each cluster, compute the mean of $Euclidean\\ distance$ between all points to current centroid\n",
    "\n",
    "5, Use the mean as the position of new centroid\n",
    "\n",
    "6, Repeat steps 3 to 5 unter centroid does not change any more\n",
    "\n",
    "Distortion Cost Function:\n",
    "\n",
    "$\\displaystyle J = \\frac 1{m}\\sum_{i=1}^m||x^{(i)}-\\mu_c(i)||^2$\n",
    "\n",
    "Note: To avoid local optimal, it's necessary to iterate with different initial random centroids."
   ]
  },
  {
   "cell_type": "code",
   "execution_count": 1,
   "metadata": {
    "collapsed": true
   },
   "outputs": [],
   "source": [
    "# Compute distance\n",
    "def distance(vecA,vecB):\n",
    "    return np.sqrt(np.sum(np.power(vecA-vecB,2)))"
   ]
  },
  {
   "cell_type": "code",
   "execution_count": 2,
   "metadata": {
    "collapsed": true
   },
   "outputs": [],
   "source": [
    "# Create k random centroids\n",
    "def randCent(dataSet,k):\n",
    "    _,n = dataSet.shape\n",
    "    centroids = np.mat(np.zeros((k,n)))\n",
    "    for j in range(n):\n",
    "        minJ = np.min(dataSet[:,j])\n",
    "        maxJ = np.max(dataSet[:,j])\n",
    "        rangeJ = float(maxJ-minJ)\n",
    "        centroids[:,j] = minJ+rangeJ*np.random.rand(k,1)\n",
    "    return centroids"
   ]
  },
  {
   "cell_type": "code",
   "execution_count": 3,
   "metadata": {
    "collapsed": true
   },
   "outputs": [],
   "source": [
    "# Compute KMeans\n",
    "def KMeans(dataSet,k,maxIter=5):\n",
    "    centroids = randCent(dataSet,k)\n",
    "    m,n = np.shape(dataSet)\n",
    "    clusterAssment = np.mat(np.zeros((m,2)) # 1st col cluster, 2nd col distance\n",
    "    clusterChanged = True\n",
    "    iterCount = 0\n",
    "    while clusterChanged and iterCount < maxIter:\n",
    "        iterCount += 1\n",
    "        clusterChanged = False\n",
    "        for i in range(m):\n",
    "            minIndex = 0\n",
    "            minDist = np.inf\n",
    "            for j in range(k):\n",
    "                dist = distance(dataSet[i,:], centroids[j,:])\n",
    "                if (dist < minDist):\n",
    "                    minIndex = j\n",
    "                    minDist = dist\n",
    "            if (clusterAssment[i,0] != minIndex):\n",
    "                clusterChanged = True\n",
    "            clusterAssment[i,:] = minIndex,minDist**2\n",
    "        for cent in range(k):\n",
    "            ptsInCluster = dataSet[np.nonzero(\n",
    "                    clusterAssment[:,0].A == cent)[0]]\n",
    "            if ptsInCluster.shape[0] > 0:\n",
    "                centroids[cent,:] = np.mean(ptsInCluster,axis=0)\n",
    "    return centroids,clusterAssment"
   ]
  },
  {
   "cell_type": "code",
   "execution_count": null,
   "metadata": {
    "collapsed": true
   },
   "outputs": [],
   "source": []
  }
 ],
 "metadata": {
  "kernelspec": {
   "display_name": "Python 3",
   "language": "python",
   "name": "python3"
  },
  "language_info": {
   "codemirror_mode": {
    "name": "ipython",
    "version": 3
   },
   "file_extension": ".py",
   "mimetype": "text/x-python",
   "name": "python",
   "nbconvert_exporter": "python",
   "pygments_lexer": "ipython3",
   "version": "3.6.1"
  }
 },
 "nbformat": 4,
 "nbformat_minor": 2
}
