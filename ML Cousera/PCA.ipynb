{
 "cells": [
  {
   "cell_type": "markdown",
   "metadata": {},
   "source": [
    "## 主成分分析\n",
    "\n",
    "目的： 数据降维。\n",
    "简单说就是将原始空间的数据转换到新特征空间。\n",
    "\n",
    "1，进行normalization，使得原始数据的$\\mu$为0\n",
    "\n",
    "$\\displaystyle x_j^{(i)} = \\frac {x_j^{(i)} - \\mu_j}{s_j}$\n",
    "\n",
    "2，求原始数据的covariance matrix\n",
    "\n",
    "$\\displaystyle \\Sigma = \\frac{1}{m}\\sum\\limits_{i=1}^{m}(x^{(i)})(x^{(i)})^T = \\frac{1}{m} \\cdot X^TX$\n",
    "\n",
    "3，对convariance matrix，通过svd求eigenvectors和eigenvalues\n",
    "\n",
    "$\\displaystyle (U,S,V^T) = SVD(\\Sigma)$\n",
    "\n",
    "4,从U取出前k个奇异向量，构建一个约减矩阵\n",
    "\n",
    "$\\displaystyle U_{reduce} = (u^{(1)},u^{(2)},\\cdots,u^{(k)})$\n",
    "\n",
    "5,计算新的特征向量\n",
    "\n",
    "$\\displaystyle z^{(i)}=U_{reduce}^T \\cdot x^{(i)}$"
   ]
  },
  {
   "cell_type": "code",
   "execution_count": 1,
   "metadata": {
    "collapsed": true
   },
   "outputs": [],
   "source": [
    "import numpy as np\n",
    "\n",
    "def normalize(X):\n",
    "    copy = X.copy()\n",
    "    m,n = copy.shape\n",
    "    mean = np.mean(copy,axis=0)\n",
    "    std = np.std(copy,axis=0)\n",
    "    normed = (copy - mean)/std\n",
    "    return normed"
   ]
  },
  {
   "cell_type": "code",
   "execution_count": 2,
   "metadata": {
    "collapsed": true
   },
   "outputs": [],
   "source": [
    "def PCA(X,k=1):\n",
    "    m,n = X.shape\n",
    "    normed = normalize(X)\n",
    "    Coef = normed.T * normed/m\n",
    "    U,S,V = np.linalg.svd(Coef)\n",
    "    UReduce = U[:,0:k]\n",
    "    Z = normed * UReduce\n",
    "    return normed,Z,U,S,V,UReduce"
   ]
  },
  {
   "cell_type": "code",
   "execution_count": 3,
   "metadata": {
    "collapsed": true
   },
   "outputs": [],
   "source": [
    "def recover(UReduce,Z):\n",
    "    return Z * UReduce.T"
   ]
  },
  {
   "cell_type": "code",
   "execution_count": null,
   "metadata": {
    "collapsed": true
   },
   "outputs": [],
   "source": []
  }
 ],
 "metadata": {
  "kernelspec": {
   "display_name": "Python 3",
   "language": "python",
   "name": "python3"
  },
  "language_info": {
   "codemirror_mode": {
    "name": "ipython",
    "version": 3
   },
   "file_extension": ".py",
   "mimetype": "text/x-python",
   "name": "python",
   "nbconvert_exporter": "python",
   "pygments_lexer": "ipython3",
   "version": "3.6.1"
  }
 },
 "nbformat": 4,
 "nbformat_minor": 2
}
