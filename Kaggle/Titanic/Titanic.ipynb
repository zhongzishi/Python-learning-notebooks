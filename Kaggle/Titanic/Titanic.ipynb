{
 "cells": [
  {
   "cell_type": "code",
   "execution_count": 1,
   "metadata": {
    "collapsed": true
   },
   "outputs": [],
   "source": [
    "import numpy as np\n",
    "import pandas as pd\n",
    "import matplotlib.pyplot as plt\n",
    "import seaborn as sns\n",
    "import collections\n",
    "%matplotlib inline"
   ]
  },
  {
   "cell_type": "code",
   "execution_count": 2,
   "metadata": {},
   "outputs": [],
   "source": [
    "trainSet = pd.read_csv(r'train.csv')\n",
    "testSet = pd.read_csv(r'test.csv')"
   ]
  },
  {
   "cell_type": "code",
   "execution_count": 3,
   "metadata": {},
   "outputs": [
    {
     "data": {
      "text/html": [
       "<div>\n",
       "<style>\n",
       "    .dataframe thead tr:only-child th {\n",
       "        text-align: right;\n",
       "    }\n",
       "\n",
       "    .dataframe thead th {\n",
       "        text-align: left;\n",
       "    }\n",
       "\n",
       "    .dataframe tbody tr th {\n",
       "        vertical-align: top;\n",
       "    }\n",
       "</style>\n",
       "<table border=\"1\" class=\"dataframe\">\n",
       "  <thead>\n",
       "    <tr style=\"text-align: right;\">\n",
       "      <th></th>\n",
       "      <th>PassengerId</th>\n",
       "      <th>Survived</th>\n",
       "      <th>Pclass</th>\n",
       "      <th>Name</th>\n",
       "      <th>Sex</th>\n",
       "      <th>Age</th>\n",
       "      <th>SibSp</th>\n",
       "      <th>Parch</th>\n",
       "      <th>Ticket</th>\n",
       "      <th>Fare</th>\n",
       "      <th>Cabin</th>\n",
       "      <th>Embarked</th>\n",
       "    </tr>\n",
       "  </thead>\n",
       "  <tbody>\n",
       "    <tr>\n",
       "      <th>0</th>\n",
       "      <td>1</td>\n",
       "      <td>0</td>\n",
       "      <td>3</td>\n",
       "      <td>Braund, Mr. Owen Harris</td>\n",
       "      <td>male</td>\n",
       "      <td>22.0</td>\n",
       "      <td>1</td>\n",
       "      <td>0</td>\n",
       "      <td>A/5 21171</td>\n",
       "      <td>7.2500</td>\n",
       "      <td>NaN</td>\n",
       "      <td>S</td>\n",
       "    </tr>\n",
       "    <tr>\n",
       "      <th>1</th>\n",
       "      <td>2</td>\n",
       "      <td>1</td>\n",
       "      <td>1</td>\n",
       "      <td>Cumings, Mrs. John Bradley (Florence Briggs Th...</td>\n",
       "      <td>female</td>\n",
       "      <td>38.0</td>\n",
       "      <td>1</td>\n",
       "      <td>0</td>\n",
       "      <td>PC 17599</td>\n",
       "      <td>71.2833</td>\n",
       "      <td>C85</td>\n",
       "      <td>C</td>\n",
       "    </tr>\n",
       "    <tr>\n",
       "      <th>2</th>\n",
       "      <td>3</td>\n",
       "      <td>1</td>\n",
       "      <td>3</td>\n",
       "      <td>Heikkinen, Miss. Laina</td>\n",
       "      <td>female</td>\n",
       "      <td>26.0</td>\n",
       "      <td>0</td>\n",
       "      <td>0</td>\n",
       "      <td>STON/O2. 3101282</td>\n",
       "      <td>7.9250</td>\n",
       "      <td>NaN</td>\n",
       "      <td>S</td>\n",
       "    </tr>\n",
       "    <tr>\n",
       "      <th>3</th>\n",
       "      <td>4</td>\n",
       "      <td>1</td>\n",
       "      <td>1</td>\n",
       "      <td>Futrelle, Mrs. Jacques Heath (Lily May Peel)</td>\n",
       "      <td>female</td>\n",
       "      <td>35.0</td>\n",
       "      <td>1</td>\n",
       "      <td>0</td>\n",
       "      <td>113803</td>\n",
       "      <td>53.1000</td>\n",
       "      <td>C123</td>\n",
       "      <td>S</td>\n",
       "    </tr>\n",
       "    <tr>\n",
       "      <th>4</th>\n",
       "      <td>5</td>\n",
       "      <td>0</td>\n",
       "      <td>3</td>\n",
       "      <td>Allen, Mr. William Henry</td>\n",
       "      <td>male</td>\n",
       "      <td>35.0</td>\n",
       "      <td>0</td>\n",
       "      <td>0</td>\n",
       "      <td>373450</td>\n",
       "      <td>8.0500</td>\n",
       "      <td>NaN</td>\n",
       "      <td>S</td>\n",
       "    </tr>\n",
       "  </tbody>\n",
       "</table>\n",
       "</div>"
      ],
      "text/plain": [
       "   PassengerId  Survived  Pclass  \\\n",
       "0            1         0       3   \n",
       "1            2         1       1   \n",
       "2            3         1       3   \n",
       "3            4         1       1   \n",
       "4            5         0       3   \n",
       "\n",
       "                                                Name     Sex   Age  SibSp  \\\n",
       "0                            Braund, Mr. Owen Harris    male  22.0      1   \n",
       "1  Cumings, Mrs. John Bradley (Florence Briggs Th...  female  38.0      1   \n",
       "2                             Heikkinen, Miss. Laina  female  26.0      0   \n",
       "3       Futrelle, Mrs. Jacques Heath (Lily May Peel)  female  35.0      1   \n",
       "4                           Allen, Mr. William Henry    male  35.0      0   \n",
       "\n",
       "   Parch            Ticket     Fare Cabin Embarked  \n",
       "0      0         A/5 21171   7.2500   NaN        S  \n",
       "1      0          PC 17599  71.2833   C85        C  \n",
       "2      0  STON/O2. 3101282   7.9250   NaN        S  \n",
       "3      0            113803  53.1000  C123        S  \n",
       "4      0            373450   8.0500   NaN        S  "
      ]
     },
     "execution_count": 3,
     "metadata": {},
     "output_type": "execute_result"
    }
   ],
   "source": [
    "trainSet.head()"
   ]
  },
  {
   "cell_type": "code",
   "execution_count": 4,
   "metadata": {},
   "outputs": [
    {
     "name": "stdout",
     "output_type": "stream",
     "text": [
      "<class 'pandas.core.frame.DataFrame'>\n",
      "RangeIndex: 891 entries, 0 to 890\n",
      "Data columns (total 12 columns):\n",
      "PassengerId    891 non-null int64\n",
      "Survived       891 non-null int64\n",
      "Pclass         891 non-null int64\n",
      "Name           891 non-null object\n",
      "Sex            891 non-null object\n",
      "Age            714 non-null float64\n",
      "SibSp          891 non-null int64\n",
      "Parch          891 non-null int64\n",
      "Ticket         891 non-null object\n",
      "Fare           891 non-null float64\n",
      "Cabin          204 non-null object\n",
      "Embarked       889 non-null object\n",
      "dtypes: float64(2), int64(5), object(5)\n",
      "memory usage: 83.6+ KB\n"
     ]
    }
   ],
   "source": [
    "trainSet.info()"
   ]
  },
  {
   "cell_type": "markdown",
   "metadata": {},
   "source": [
    "Observations\n",
    "- Age, Embarked and Cabin have some missing values\n",
    "- Age's format is float"
   ]
  },
  {
   "cell_type": "code",
   "execution_count": 5,
   "metadata": {},
   "outputs": [],
   "source": [
    "#drop PassengerId and Ticket since they are less useful for prediction\n",
    "trainSet = trainSet.drop([\"PassengerId\",\"Ticket\"],axis=1)"
   ]
  },
  {
   "cell_type": "code",
   "execution_count": 6,
   "metadata": {},
   "outputs": [
    {
     "data": {
      "text/plain": [
       "Counter({1: 216, 2: 184, 3: 491})"
      ]
     },
     "execution_count": 6,
     "metadata": {},
     "output_type": "execute_result"
    }
   ],
   "source": [
    "collections.Counter(trainSet[\"Pclass\"])"
   ]
  },
  {
   "cell_type": "code",
   "execution_count": 7,
   "metadata": {},
   "outputs": [
    {
     "data": {
      "text/html": [
       "<div>\n",
       "<style>\n",
       "    .dataframe thead tr:only-child th {\n",
       "        text-align: right;\n",
       "    }\n",
       "\n",
       "    .dataframe thead th {\n",
       "        text-align: left;\n",
       "    }\n",
       "\n",
       "    .dataframe tbody tr th {\n",
       "        vertical-align: top;\n",
       "    }\n",
       "</style>\n",
       "<table border=\"1\" class=\"dataframe\">\n",
       "  <thead>\n",
       "    <tr style=\"text-align: right;\">\n",
       "      <th></th>\n",
       "      <th>Pclass</th>\n",
       "      <th>Survived</th>\n",
       "    </tr>\n",
       "  </thead>\n",
       "  <tbody>\n",
       "    <tr>\n",
       "      <th>0</th>\n",
       "      <td>1</td>\n",
       "      <td>0.629630</td>\n",
       "    </tr>\n",
       "    <tr>\n",
       "      <th>1</th>\n",
       "      <td>2</td>\n",
       "      <td>0.472826</td>\n",
       "    </tr>\n",
       "    <tr>\n",
       "      <th>2</th>\n",
       "      <td>3</td>\n",
       "      <td>0.242363</td>\n",
       "    </tr>\n",
       "  </tbody>\n",
       "</table>\n",
       "</div>"
      ],
      "text/plain": [
       "   Pclass  Survived\n",
       "0       1  0.629630\n",
       "1       2  0.472826\n",
       "2       3  0.242363"
      ]
     },
     "execution_count": 7,
     "metadata": {},
     "output_type": "execute_result"
    }
   ],
   "source": [
    "cls_df = trainSet[[\"Pclass\",\"Survived\"]].groupby([\"Pclass\"],as_index = False).mean()\n",
    "cls_df"
   ]
  },
  {
   "cell_type": "code",
   "execution_count": 8,
   "metadata": {},
   "outputs": [
    {
     "data": {
      "text/plain": [
       "<matplotlib.axes._subplots.AxesSubplot at 0x27c270639b0>"
      ]
     },
     "execution_count": 8,
     "metadata": {},
     "output_type": "execute_result"
    },
    {
     "data": {
      "image/png": "iVBORw0KGgoAAAANSUhEUgAAAmIAAAE8CAYAAABjOt38AAAABHNCSVQICAgIfAhkiAAAAAlwSFlz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\nBjFJkqRC/h9rDVFvLw8+7AAAAABJRU5ErkJggg==\n",
      "text/plain": [
       "<matplotlib.figure.Figure at 0x27c26c45208>"
      ]
     },
     "metadata": {},
     "output_type": "display_data"
    }
   ],
   "source": [
    "plt.figure(1,(10,5))\n",
    "plt.subplot(121)\n",
    "sns.countplot(x=\"Pclass\",data=trainSet)\n",
    "plt.subplot(122)\n",
    "sns.barplot(x=\"Pclass\",y=\"Survived\",data=cls_df)"
   ]
  },
  {
   "cell_type": "code",
   "execution_count": 9,
   "metadata": {},
   "outputs": [
    {
     "data": {
      "text/plain": [
       "<matplotlib.axes._subplots.AxesSubplot at 0x27c27168668>"
      ]
     },
     "execution_count": 9,
     "metadata": {},
     "output_type": "execute_result"
    },
    {
     "data": {
      "image/png": "iVBORw0KGgoAAAANSUhEUgAAAqsAAAI+CAYAAACbsEMBAAAABHNCSVQICAgIfAhkiAAAAAlwSFlz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\ngg==\n",
      "text/plain": [
       "<matplotlib.figure.Figure at 0x27c27156400>"
      ]
     },
     "metadata": {},
     "output_type": "display_data"
    }
   ],
   "source": [
    "df1 = trainSet.drop(['Survived'],axis=1)\n",
    "df1['Survived']=trainSet['Survived']\n",
    "df1 = df1.corr()\n",
    "mask = np.array(df1)\n",
    "mask[np.tril_indices_from(mask)]=False\n",
    "fig = plt.subplots(figsize=(20,10))\n",
    "sns.heatmap(data=df1,mask=mask,annot=True,square=True)"
   ]
  },
  {
   "cell_type": "code",
   "execution_count": 10,
   "metadata": {},
   "outputs": [
    {
     "data": {
      "text/plain": [
       "<seaborn.axisgrid.FacetGrid at 0x27c27063fd0>"
      ]
     },
     "execution_count": 10,
     "metadata": {},
     "output_type": "execute_result"
    },
    {
     "data": {
      "image/png": "iVBORw0KGgoAAAANSUhEUgAAAjgAAAEYCAYAAABRMYxdAAAABHNCSVQICAgIfAhkiAAAAAlwSFlz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\nUcARERGRuKOAIyIiInHn/wMDbEKwaBj+owAAAABJRU5ErkJggg==\n",
      "text/plain": [
       "<matplotlib.figure.Figure at 0x27c2711e4a8>"
      ]
     },
     "metadata": {},
     "output_type": "display_data"
    }
   ],
   "source": [
    "sns.factorplot(x='Sex',y='Survived',data=trainSet,size=4,aspect=2)"
   ]
  },
  {
   "cell_type": "code",
   "execution_count": 11,
   "metadata": {},
   "outputs": [],
   "source": [
    "trainSet['Sex'] = (trainSet['Sex'] == 'male').astype(int)"
   ]
  },
  {
   "cell_type": "code",
<<<<<<< HEAD
   "execution_count": 47,
=======
   "execution_count": 12,
>>>>>>> 2774d5f00e6221463106e507eb9ce7db916d69a8
   "metadata": {},
   "outputs": [
    {
     "data": {
      "text/plain": [
<<<<<<< HEAD
       "<matplotlib.axes._subplots.AxesSubplot at 0x26690810d30>"
      ]
     },
     "execution_count": 47,
     "metadata": {},
     "output_type": "execute_result"
    },
    {
     "data": {
      "image/png": "iVBORw0KGgoAAAANSUhEUgAAA1gAAAEYCAYAAABBWFftAAAABHNCSVQICAgIfAhkiAAAAAlwSFlz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\nS5IkSZJqYsCSJEmSpJp8AFIrx5X+y39OAAAAAElFTkSuQmCC\n",
      "text/plain": [
       "<matplotlib.figure.Figure at 0x2669067c2e8>"
      ]
     },
     "metadata": {},
     "output_type": "display_data"
    },
    {
     "data": {
      "image/png": "iVBORw0KGgoAAAANSUhEUgAAA3kAAAE8CAYAAAB9+ngjAAAABHNCSVQICAgIfAhkiAAAAAlwSFlz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\nSVKF/P9liMm769noOQAAAABJRU5ErkJggg==\n",
      "text/plain": [
       "<matplotlib.figure.Figure at 0x266903e1080>"
      ]
     },
     "metadata": {},
     "output_type": "display_data"
    }
   ],
   "source": [
    "#embarked\n",
    "trainSet['Embarked'].fillna('S',inplace=True)\n",
    "sns.factorplot(x='Embarked',y='Survived',data=trainSet,size=4,aspect=3)\n",
    "fig, (axis1,axis2,axis3)=plt.subplots(1,3,figsize=(15,5))\n",
    "sns.countplot(x='Embarked',data=trainSet,ax=axis1)\n",
    "sns.countplot(x='Survived',hue='Embarked',data=trainSet,ax=axis2)\n",
    "embark=trainSet[['Embarked','Survived']].groupby(['Embarked'],as_index=False).mean()\n",
    "sns.barplot(x='Embarked',y='Survived',data=embark,ax=axis3,order=['S','C','Q'])"
   ]
  },
  {
   "cell_type": "code",
   "execution_count": 48,
   "metadata": {},
   "outputs": [
    {
     "name": "stdout",
     "output_type": "stream",
     "text": [
      "<class 'pandas.core.frame.DataFrame'>\n",
      "RangeIndex: 891 entries, 0 to 890\n",
      "Data columns (total 13 columns):\n",
      "Survived    891 non-null int64\n",
      "Age         891 non-null int32\n",
      "Fare        891 non-null int32\n",
      "Cabin       204 non-null object\n",
      "Embarked    891 non-null object\n",
      "Class_1     891 non-null uint8\n",
      "Class_2     891 non-null uint8\n",
      "Class_3     891 non-null uint8\n",
      "Person      891 non-null object\n",
      "Child       891 non-null uint8\n",
      "Female      891 non-null uint8\n",
      "Male        891 non-null uint8\n",
      "Family      891 non-null int64\n",
      "dtypes: int32(2), int64(2), object(3), uint8(6)\n",
      "memory usage: 47.1+ KB\n",
      "----------------------------------------------------\n",
      "<class 'pandas.core.frame.DataFrame'>\n",
      "RangeIndex: 418 entries, 0 to 417\n",
      "Data columns (total 13 columns):\n",
      "PassengerId    418 non-null int64\n",
      "Age            418 non-null int32\n",
      "Fare           418 non-null int32\n",
      "Cabin          91 non-null object\n",
      "Embarked       418 non-null object\n",
      "Class_1        418 non-null uint8\n",
      "Class_2        418 non-null uint8\n",
      "Class_3        418 non-null uint8\n",
      "Person         418 non-null object\n",
      "Child          418 non-null uint8\n",
      "Female         418 non-null uint8\n",
      "Male           418 non-null uint8\n",
      "Family         418 non-null int64\n",
      "dtypes: int32(2), int64(2), object(3), uint8(6)\n",
      "memory usage: 22.1+ KB\n"
     ]
    }
   ],
   "source": [
    "trainSet.info()\n",
    "print('----------------------------------------------------')\n",
    "testSet.info()"
=======
       "count    891.000000\n",
       "mean       0.647587\n",
       "std        0.477990\n",
       "min        0.000000\n",
       "25%        0.000000\n",
       "50%        1.000000\n",
       "75%        1.000000\n",
       "max        1.000000\n",
       "Name: Sex, dtype: float64"
      ]
     },
     "execution_count": 12,
     "metadata": {},
     "output_type": "execute_result"
    }
   ],
   "source": [
    "trainSet['Sex'].describe()"
>>>>>>> 2774d5f00e6221463106e507eb9ce7db916d69a8
   ]
  },
  {
   "cell_type": "code",
   "execution_count": null,
   "metadata": {
    "collapsed": true
   },
   "outputs": [],
   "source": []
  }
 ],
 "metadata": {
  "kernelspec": {
   "display_name": "Python 3",
   "language": "python",
   "name": "python3"
  },
  "language_info": {
   "codemirror_mode": {
    "name": "ipython",
    "version": 3
   },
   "file_extension": ".py",
   "mimetype": "text/x-python",
   "name": "python",
   "nbconvert_exporter": "python",
   "pygments_lexer": "ipython3",
   "version": "3.6.1"
  }
 },
 "nbformat": 4,
 "nbformat_minor": 2
}
