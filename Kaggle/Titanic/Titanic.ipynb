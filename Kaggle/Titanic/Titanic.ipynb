{
 "cells": [
  {
   "cell_type": "code",
   "execution_count": 1,
   "metadata": {
    "collapsed": true
   },
   "outputs": [],
   "source": [
    "import numpy as np\n",
    "import pandas as pd\n",
    "import matplotlib.pyplot as plt\n",
    "import seaborn as sns\n",
    "%matplotlib inline"
   ]
  },
  {
   "cell_type": "code",
   "execution_count": 2,
   "metadata": {
    "collapsed": true
   },
   "outputs": [],
   "source": [
    "trainSet = pd.read_csv(r'train.csv')\n",
    "testSet = pd.read_csv(r'test.csv')"
   ]
  },
  {
   "cell_type": "code",
   "execution_count": 3,
   "metadata": {},
   "outputs": [
    {
     "data": {
      "text/html": [
       "<div>\n",
       "<style>\n",
       "    .dataframe thead tr:only-child th {\n",
       "        text-align: right;\n",
       "    }\n",
       "\n",
       "    .dataframe thead th {\n",
       "        text-align: left;\n",
       "    }\n",
       "\n",
       "    .dataframe tbody tr th {\n",
       "        vertical-align: top;\n",
       "    }\n",
       "</style>\n",
       "<table border=\"1\" class=\"dataframe\">\n",
       "  <thead>\n",
       "    <tr style=\"text-align: right;\">\n",
       "      <th></th>\n",
       "      <th>PassengerId</th>\n",
       "      <th>Survived</th>\n",
       "      <th>Pclass</th>\n",
       "      <th>Name</th>\n",
       "      <th>Sex</th>\n",
       "      <th>Age</th>\n",
       "      <th>SibSp</th>\n",
       "      <th>Parch</th>\n",
       "      <th>Ticket</th>\n",
       "      <th>Fare</th>\n",
       "      <th>Cabin</th>\n",
       "      <th>Embarked</th>\n",
       "    </tr>\n",
       "  </thead>\n",
       "  <tbody>\n",
       "    <tr>\n",
       "      <th>0</th>\n",
       "      <td>1</td>\n",
       "      <td>0</td>\n",
       "      <td>3</td>\n",
       "      <td>Braund, Mr. Owen Harris</td>\n",
       "      <td>male</td>\n",
       "      <td>22.0</td>\n",
       "      <td>1</td>\n",
       "      <td>0</td>\n",
       "      <td>A/5 21171</td>\n",
       "      <td>7.2500</td>\n",
       "      <td>NaN</td>\n",
       "      <td>S</td>\n",
       "    </tr>\n",
       "    <tr>\n",
       "      <th>1</th>\n",
       "      <td>2</td>\n",
       "      <td>1</td>\n",
       "      <td>1</td>\n",
       "      <td>Cumings, Mrs. John Bradley (Florence Briggs Th...</td>\n",
       "      <td>female</td>\n",
       "      <td>38.0</td>\n",
       "      <td>1</td>\n",
       "      <td>0</td>\n",
       "      <td>PC 17599</td>\n",
       "      <td>71.2833</td>\n",
       "      <td>C85</td>\n",
       "      <td>C</td>\n",
       "    </tr>\n",
       "    <tr>\n",
       "      <th>2</th>\n",
       "      <td>3</td>\n",
       "      <td>1</td>\n",
       "      <td>3</td>\n",
       "      <td>Heikkinen, Miss. Laina</td>\n",
       "      <td>female</td>\n",
       "      <td>26.0</td>\n",
       "      <td>0</td>\n",
       "      <td>0</td>\n",
       "      <td>STON/O2. 3101282</td>\n",
       "      <td>7.9250</td>\n",
       "      <td>NaN</td>\n",
       "      <td>S</td>\n",
       "    </tr>\n",
       "    <tr>\n",
       "      <th>3</th>\n",
       "      <td>4</td>\n",
       "      <td>1</td>\n",
       "      <td>1</td>\n",
       "      <td>Futrelle, Mrs. Jacques Heath (Lily May Peel)</td>\n",
       "      <td>female</td>\n",
       "      <td>35.0</td>\n",
       "      <td>1</td>\n",
       "      <td>0</td>\n",
       "      <td>113803</td>\n",
       "      <td>53.1000</td>\n",
       "      <td>C123</td>\n",
       "      <td>S</td>\n",
       "    </tr>\n",
       "    <tr>\n",
       "      <th>4</th>\n",
       "      <td>5</td>\n",
       "      <td>0</td>\n",
       "      <td>3</td>\n",
       "      <td>Allen, Mr. William Henry</td>\n",
       "      <td>male</td>\n",
       "      <td>35.0</td>\n",
       "      <td>0</td>\n",
       "      <td>0</td>\n",
       "      <td>373450</td>\n",
       "      <td>8.0500</td>\n",
       "      <td>NaN</td>\n",
       "      <td>S</td>\n",
       "    </tr>\n",
       "  </tbody>\n",
       "</table>\n",
       "</div>"
      ],
      "text/plain": [
       "   PassengerId  Survived  Pclass  \\\n",
       "0            1         0       3   \n",
       "1            2         1       1   \n",
       "2            3         1       3   \n",
       "3            4         1       1   \n",
       "4            5         0       3   \n",
       "\n",
       "                                                Name     Sex   Age  SibSp  \\\n",
       "0                            Braund, Mr. Owen Harris    male  22.0      1   \n",
       "1  Cumings, Mrs. John Bradley (Florence Briggs Th...  female  38.0      1   \n",
       "2                             Heikkinen, Miss. Laina  female  26.0      0   \n",
       "3       Futrelle, Mrs. Jacques Heath (Lily May Peel)  female  35.0      1   \n",
       "4                           Allen, Mr. William Henry    male  35.0      0   \n",
       "\n",
       "   Parch            Ticket     Fare Cabin Embarked  \n",
       "0      0         A/5 21171   7.2500   NaN        S  \n",
       "1      0          PC 17599  71.2833   C85        C  \n",
       "2      0  STON/O2. 3101282   7.9250   NaN        S  \n",
       "3      0            113803  53.1000  C123        S  \n",
       "4      0            373450   8.0500   NaN        S  "
      ]
     },
     "execution_count": 3,
     "metadata": {},
     "output_type": "execute_result"
    }
   ],
   "source": [
    "trainSet.head()"
   ]
  },
  {
   "cell_type": "code",
   "execution_count": 4,
   "metadata": {},
   "outputs": [
    {
     "name": "stdout",
     "output_type": "stream",
     "text": [
      "<class 'pandas.core.frame.DataFrame'>\n",
      "RangeIndex: 891 entries, 0 to 890\n",
      "Data columns (total 12 columns):\n",
      "PassengerId    891 non-null int64\n",
      "Survived       891 non-null int64\n",
      "Pclass         891 non-null int64\n",
      "Name           891 non-null object\n",
      "Sex            891 non-null object\n",
      "Age            714 non-null float64\n",
      "SibSp          891 non-null int64\n",
      "Parch          891 non-null int64\n",
      "Ticket         891 non-null object\n",
      "Fare           891 non-null float64\n",
      "Cabin          204 non-null object\n",
      "Embarked       889 non-null object\n",
      "dtypes: float64(2), int64(5), object(5)\n",
      "memory usage: 83.6+ KB\n",
      "---------------------------------------------------------\n",
      "<class 'pandas.core.frame.DataFrame'>\n",
      "RangeIndex: 418 entries, 0 to 417\n",
      "Data columns (total 11 columns):\n",
      "PassengerId    418 non-null int64\n",
      "Pclass         418 non-null int64\n",
      "Name           418 non-null object\n",
      "Sex            418 non-null object\n",
      "Age            332 non-null float64\n",
      "SibSp          418 non-null int64\n",
      "Parch          418 non-null int64\n",
      "Ticket         418 non-null object\n",
      "Fare           417 non-null float64\n",
      "Cabin          91 non-null object\n",
      "Embarked       418 non-null object\n",
      "dtypes: float64(2), int64(4), object(5)\n",
      "memory usage: 36.0+ KB\n"
     ]
    }
   ],
   "source": [
    "trainSet.info()\n",
    "print('---------------------------------------------------------')\n",
    "testSet.info()"
   ]
  },
  {
   "cell_type": "markdown",
   "metadata": {},
   "source": [
    "Observations\n",
    "- Age, Embarked and Cabin have some missing values\n",
    "- Age's format is float"
   ]
  },
  {
   "cell_type": "code",
   "execution_count": 5,
   "metadata": {
    "collapsed": true
   },
   "outputs": [],
   "source": [
    "#drop PassengerId and Ticket since they are less useful for prediction\n",
    "trainSet = trainSet.drop([\"PassengerId\",\"Ticket\",\"Name\"],axis=1)\n",
    "testSet = testSet.drop([\"Name\",\"Ticket\"],axis=1)"
   ]
  },
  {
   "cell_type": "code",
   "execution_count": 6,
   "metadata": {},
   "outputs": [
    {
     "data": {
      "text/plain": [
       "<matplotlib.axes._subplots.AxesSubplot at 0x2243d0364e0>"
      ]
     },
     "execution_count": 6,
     "metadata": {},
     "output_type": "execute_result"
    },
    {
     "data": {
      "image/png": "[encoded data removed]",
      "text/plain": [
       "<matplotlib.figure.Figure at 0x2243d019ef0>"
      ]
     },
     "metadata": {},
     "output_type": "display_data"
    }
   ],
   "source": [
    "df1 = trainSet.drop(['Survived'],axis=1)\n",
    "df1['Survived']=trainSet['Survived']\n",
    "df1 = df1.corr()\n",
    "mask = np.array(df1)\n",
    "mask[np.tril_indices_from(mask)]=False\n",
    "fig = plt.subplots(figsize=(20,10))\n",
    "sns.heatmap(data=df1,mask=mask,annot=True,square=True)"
   ]
  },
  {
   "cell_type": "code",
   "execution_count": 7,
   "metadata": {},
   "outputs": [
    {
     "data": {
      "text/plain": [
       "<seaborn.axisgrid.FacetGrid at 0x224386f90f0>"
      ]
     },
     "execution_count": 7,
     "metadata": {},
     "output_type": "execute_result"
    },
    {
     "data": {
      "image/png": "[encoded data removed]",
      "text/plain": [
       "<matplotlib.figure.Figure at 0x2243d8e07f0>"
      ]
     },
     "metadata": {},
     "output_type": "display_data"
    }
   ],
   "source": [
    "sns.factorplot(x='Pclass',y='Survived',data=trainSet,order=[1,2,3],size=6)"
   ]
  },
  {
   "cell_type": "code",
   "execution_count": 8,
   "metadata": {},
   "outputs": [
    {
     "data": {
      "text/plain": [
       "<matplotlib.axes._subplots.AxesSubplot at 0x2243d5d5a90>"
      ]
     },
     "execution_count": 8,
     "metadata": {},
     "output_type": "execute_result"
    },
    {
     "data": {
      "image/png": "[encoded data removed]",
      "text/plain": [
       "<matplotlib.figure.Figure at 0x2243d52e048>"
      ]
     },
     "metadata": {},
     "output_type": "display_data"
    }
   ],
   "source": [
    "cls_df = trainSet[[\"Pclass\",\"Survived\"]].groupby([\"Pclass\"],as_index = False).mean()\n",
    "plt.figure(1,(10,5))\n",
    "plt.subplot(121)\n",
    "sns.countplot(x=\"Pclass\",data=trainSet)\n",
    "plt.subplot(122)\n",
    "sns.barplot(x=\"Pclass\",y=\"Survived\",data=cls_df)"
   ]
  },
  {
   "cell_type": "code",
   "execution_count": 9,
   "metadata": {},
   "outputs": [
    {
     "name": "stdout",
     "output_type": "stream",
     "text": [
      "<class 'pandas.core.frame.DataFrame'>\n",
      "RangeIndex: 891 entries, 0 to 890\n",
      "Data columns (total 11 columns):\n",
      "Survived    891 non-null int64\n",
      "Sex         891 non-null object\n",
      "Age         714 non-null float64\n",
      "SibSp       891 non-null int64\n",
      "Parch       891 non-null int64\n",
      "Fare        891 non-null float64\n",
      "Cabin       204 non-null object\n",
      "Embarked    889 non-null object\n",
      "Class_1     891 non-null uint8\n",
      "Class_2     891 non-null uint8\n",
      "Class_3     891 non-null uint8\n",
      "dtypes: float64(2), int64(3), object(3), uint8(3)\n",
      "memory usage: 58.4+ KB\n",
      "----------------------------------------------------\n",
      "<class 'pandas.core.frame.DataFrame'>\n",
      "RangeIndex: 418 entries, 0 to 417\n",
      "Data columns (total 11 columns):\n",
      "PassengerId    418 non-null int64\n",
      "Sex            418 non-null object\n",
      "Age            332 non-null float64\n",
      "SibSp          418 non-null int64\n",
      "Parch          418 non-null int64\n",
      "Fare           417 non-null float64\n",
      "Cabin          91 non-null object\n",
      "Embarked       418 non-null object\n",
      "Class_1        418 non-null uint8\n",
      "Class_2        418 non-null uint8\n",
      "Class_3        418 non-null uint8\n",
      "dtypes: float64(2), int64(3), object(3), uint8(3)\n",
      "memory usage: 27.4+ KB\n"
     ]
    }
   ],
   "source": [
    "# one-hot encoding \n",
    "dummy_columns = ['Class_1','Class_2','Class_3']\n",
    "dummy_class_trainSet = pd.get_dummies(trainSet['Pclass'])\n",
    "dummy_class_trainSet.columns = dummy_columns\n",
    "dummy_class_testSet = pd.get_dummies(testSet['Pclass'])\n",
    "dummy_class_testSet.columns = dummy_columns\n",
    "\n",
    "\n",
    "trainSet = trainSet.drop(['Pclass'],axis=1)\n",
    "testSet = testSet.drop(['Pclass'],axis=1)\n",
    "\n",
    "trainSet = trainSet.join(dummy_class_trainSet)\n",
    "testSet = testSet.join(dummy_class_testSet)\n"
   ]
  },
  {
   "cell_type": "code",
   "execution_count": 10,
   "metadata": {},
   "outputs": [
    {
     "data": {
      "text/plain": [
       "<seaborn.axisgrid.FacetGrid at 0x2243d53a358>"
      ]
     },
     "execution_count": 10,
     "metadata": {},
     "output_type": "execute_result"
    },
    {
     "data": {
      "image/png": "[encoded data removed]",
      "text/plain": [
       "<matplotlib.figure.Figure at 0x2243b29f780>"
      ]
     },
     "metadata": {},
     "output_type": "display_data"
    }
   ],
   "source": [
    "sns.factorplot(x='Sex',y='Survived',data=trainSet,size=4)"
   ]
  },
  {
   "cell_type": "code",
   "execution_count": 12,
   "metadata": {},
   "outputs": [
    {
     "name": "stderr",
     "output_type": "stream",
     "text": [
      "C:\\Users\\Zishi\\Anaconda3\\lib\\site-packages\\ipykernel\\__main__.py:11: SettingWithCopyWarning: \n",
      "A value is trying to be set on a copy of a slice from a DataFrame\n",
      "\n",
      "See the caveats in the documentation: http://pandas.pydata.org/pandas-docs/stable/indexing.html#indexing-view-versus-copy\n",
      "C:\\Users\\Zishi\\Anaconda3\\lib\\site-packages\\ipykernel\\__main__.py:19: SettingWithCopyWarning: \n",
      "A value is trying to be set on a copy of a slice from a DataFrame\n",
      "\n",
      "See the caveats in the documentation: http://pandas.pydata.org/pandas-docs/stable/indexing.html#indexing-view-versus-copy\n"
     ]
    },
    {
     "data": {
      "image/png": "[encoded data removed]",
      "text/plain": [
       "<matplotlib.figure.Figure at 0x2243d6e4550>"
      ]
     },
     "metadata": {},
     "output_type": "display_data"
    }
   ],
   "source": [
    "fig, (axis1,axis2) = plt.subplots(1,2,figsize=(15,4))\n",
    "axis1.set_title('Original Age')\n",
    "axis2.set_title('New Age')\n",
    "\n",
    "age_std_train = trainSet['Age'].std()\n",
    "age_mean_train = trainSet['Age'].mean()\n",
    "size = trainSet['Age'].isnull().sum()\n",
    "trainSet['Age'].dropna().astype(int).hist(bins=70,ax=axis1)\n",
    "\n",
    "fillvalues_train=np.random.randint(age_mean_train-age_std_train,age_mean_train+age_std_train,size=size)\n",
    "trainSet['Age'][np.isnan(trainSet['Age'])] = fillvalues_train\n",
    "trainSet['Age'] = trainSet['Age'].astype(int)\n",
    "trainSet['Age'].hist(bins=70,ax=axis2)\n",
    "\n",
    "age_std_test=testSet['Age'].std()\n",
    "age_mean_test=testSet['Age'].mean()\n",
    "size=testSet['Age'].isnull().sum()\n",
    "fillvalues_test=np.random.randint(age_mean_test-age_std_test,age_mean_test+age_std_test,size=size)\n",
    "testSet['Age'][np.isnan(testSet['Age'])] = fillvalues_test\n",
    "testSet['Age'] = testSet['Age'].astype(int)"
   ]
  },
  {
   "cell_type": "code",
   "execution_count": 14,
   "metadata": {},
   "outputs": [
    {
     "data": {
      "text/plain": [
       "<matplotlib.axes._subplots.AxesSubplot at 0x2243df83be0>"
      ]
     },
     "execution_count": 14,
     "metadata": {},
     "output_type": "execute_result"
    },
    {
     "data": {
      "image/png": "[encoded data removed]",
      "text/plain": [
       "<matplotlib.figure.Figure at 0x2243df566d8>"
      ]
     },
     "metadata": {},
     "output_type": "display_data"
    },
    {
     "data": {
      "image/png": "[encoded data removed]",
      "text/plain": [
       "<matplotlib.figure.Figure at 0x2243d5eef60>"
      ]
     },
     "metadata": {},
     "output_type": "display_data"
    }
   ],
   "source": [
    "facet = sns.FacetGrid(trainSet,hue='Survived',aspect=4)\n",
    "facet.map(sns.kdeplot,'Age',shade=True)\n",
    "facet.set(xlim=(0,trainSet['Age'].max()))\n",
    "facet.add_legend()\n",
    "\n",
    "fig, axis1 = plt.subplots(1,1,figsize=(18,4))\n",
    "age = trainSet[['Age','Survived']]\n",
    "average_age = age.groupby(['Age'],as_index=False).mean()\n",
    "sns.barplot(x='Age',y='Survived',data=average_age)"
   ]
  },
  {
   "cell_type": "code",
   "execution_count": 15,
   "metadata": {},
   "outputs": [
    {
     "data": {
      "text/plain": [
       "<matplotlib.axes._subplots.AxesSubplot at 0x2243ddbcc88>"
      ]
     },
     "execution_count": 15,
     "metadata": {},
     "output_type": "execute_result"
    },
    {
     "data": {
      "image/png": "[encoded data removed]",
      "text/plain": [
       "<matplotlib.figure.Figure at 0x2243d623eb8>"
      ]
     },
     "metadata": {},
     "output_type": "display_data"
    }
   ],
   "source": [
    "def get_person(person):\n",
    "    age,sex = person\n",
    "    return 'child' if age < 16 else sex\n",
    "trainSet['Person'] = trainSet[['Age','Sex']].apply(get_person,axis=1)\n",
    "testSet['Person'] = testSet[['Age','Sex']].apply(get_person,axis=1)\n",
    "fig, (axis1,axis2) = plt.subplots(1,2,figsize=(10,5))\n",
    "sns.countplot(x='Person',data=trainSet,ax=axis1)\n",
    "person = trainSet[['Person','Survived']].groupby(['Person'],as_index=False).mean()\n",
    "sns.barplot(x='Person',y='Survived',data=person,ax=axis2,order=['male','female','child'])"
   ]
  },
  {
   "cell_type": "code",
   "execution_count": 16,
   "metadata": {},
   "outputs": [
    {
     "name": "stdout",
     "output_type": "stream",
     "text": [
      "<class 'pandas.core.frame.DataFrame'>\n",
      "RangeIndex: 891 entries, 0 to 890\n",
      "Data columns (total 14 columns):\n",
      "Survived    891 non-null int64\n",
      "Age         891 non-null int32\n",
      "SibSp       891 non-null int64\n",
      "Parch       891 non-null int64\n",
      "Fare        891 non-null float64\n",
      "Cabin       204 non-null object\n",
      "Embarked    889 non-null object\n",
      "Class_1     891 non-null uint8\n",
      "Class_2     891 non-null uint8\n",
      "Class_3     891 non-null uint8\n",
      "Person      891 non-null object\n",
      "Child       891 non-null uint8\n",
      "Female      891 non-null uint8\n",
      "Male        891 non-null uint8\n",
      "dtypes: float64(1), int32(1), int64(3), object(3), uint8(6)\n",
      "memory usage: 57.5+ KB\n",
      "----------------------------------------------------\n",
      "<class 'pandas.core.frame.DataFrame'>\n",
      "RangeIndex: 418 entries, 0 to 417\n",
      "Data columns (total 14 columns):\n",
      "PassengerId    418 non-null int64\n",
      "Age            418 non-null int32\n",
      "SibSp          418 non-null int64\n",
      "Parch          418 non-null int64\n",
      "Fare           417 non-null float64\n",
      "Cabin          91 non-null object\n",
      "Embarked       418 non-null object\n",
      "Class_1        418 non-null uint8\n",
      "Class_2        418 non-null uint8\n",
      "Class_3        418 non-null uint8\n",
      "Person         418 non-null object\n",
      "Child          418 non-null uint8\n",
      "Female         418 non-null uint8\n",
      "Male           418 non-null uint8\n",
      "dtypes: float64(1), int32(1), int64(3), object(3), uint8(6)\n",
      "memory usage: 27.0+ KB\n"
     ]
    }
   ],
   "source": [
    "#one-hot encoding\n",
    "dummy_columns = ['Child','Female','Male']\n",
    "dummy_person_train = pd.get_dummies(trainSet['Person'])\n",
    "dummy_person_train.columns=dummy_columns\n",
    "dummy_person_test = pd.get_dummies(testSet['Person'])\n",
    "dummy_person_test.columns=dummy_columns\n",
    "trainSet = trainSet.join(dummy_person_train)\n",
    "testSet = testSet.join(dummy_person_test)\n",
    "\n",
    "trainSet.drop(['Sex'],axis=1,inplace=True)\n",
    "testSet.drop(['Sex'],axis=1,inplace=True)"
   ]
  },
  {
   "cell_type": "code",
   "execution_count": 17,
   "metadata": {},
   "outputs": [
    {
     "data": {
      "image/png": "[encoded data removed]",
      "text/plain": [
       "<matplotlib.figure.Figure at 0x2243e200940>"
      ]
     },
     "metadata": {},
     "output_type": "display_data"
    }
   ],
   "source": [
    "# 'SibSp'and'Parch'\n",
    "\n",
    "def family(data):\n",
    "    SibSp,Parch = data\n",
    "    return 1 if (SibSp >0 or Parch >0) else 0\n",
    "\n",
    "trainSet['Family'] = trainSet[['SibSp','Parch']].apply(family,axis=1)\n",
    "testSet['Family'] = testSet[['SibSp','Parch']].apply(family,axis=1)\n",
    "fig,(axis1,axis2) = plt.subplots(1,2,sharex=True,figsize=(10,5))                      \n",
    "sns.countplot(x='Family',data=trainSet,order=[1,0],ax=axis1)\n",
    "family = trainSet[['Family','Survived']].groupby(['Family'],as_index=False).mean()\n",
    "sns.barplot(x='Family',y='Survived',data=family,ax=axis2,order=[1,0])\n",
    "axis1.set_xticklabels(['Family','Alone'])\n",
    "\n",
    "trainSet.drop(['SibSp','Parch'],axis=1,inplace=True)\n",
    "testSet.drop(['SibSp','Parch'],axis=1,inplace=True)"
   ]
  },
  {
   "cell_type": "code",
   "execution_count": 18,
   "metadata": {},
   "outputs": [
    {
     "data": {
      "text/plain": [
       "<matplotlib.axes._subplots.AxesSubplot at 0x2243df565f8>"
      ]
     },
     "execution_count": 18,
     "metadata": {},
     "output_type": "execute_result"
    },
    {
     "data": {
      "image/png": "[encoded data removed]",
      "text/plain": [
       "<matplotlib.figure.Figure at 0x2243e2d8320>"
      ]
     },
     "metadata": {},
     "output_type": "display_data"
    }
   ],
   "source": [
    "# fare\n",
    "\n",
    "testSet['Fare'].fillna(testSet['Fare'].median(),inplace=True)\n",
    "\n",
    "trainSet['Fare'] = trainSet['Fare'].astype(int)\n",
    "testSet['Fare'] = testSet['Fare'].astype(int)\n",
    "\n",
    "trainSet['Fare'].plot(kind='hist',figsize=(15,3),bins=100,xlim=(0,50))"
   ]
  },
  {
   "cell_type": "code",
   "execution_count": 19,
   "metadata": {},
   "outputs": [
    {
     "data": {
      "text/plain": [
       "<matplotlib.axes._subplots.AxesSubplot at 0x2243f9e42e8>"
      ]
     },
     "execution_count": 19,
     "metadata": {},
     "output_type": "execute_result"
    },
    {
     "data": {
      "image/png": "[encoded data removed]",
      "text/plain": [
       "<matplotlib.figure.Figure at 0x2243e0ef470>"
      ]
     },
     "metadata": {},
     "output_type": "display_data"
    },
    {
     "data": {
      "image/png": "[encoded data removed]",
      "text/plain": [
       "<matplotlib.figure.Figure at 0x2243e200ef0>"
      ]
     },
     "metadata": {},
     "output_type": "display_data"
    }
   ],
   "source": [
    "#embarked\n",
    "trainSet['Embarked'].fillna('S',inplace=True)\n",
    "sns.factorplot(x='Embarked',y='Survived',data=trainSet,size=4,aspect=3)\n",
    "fig, (axis1,axis2,axis3)=plt.subplots(1,3,figsize=(15,5))\n",
    "sns.countplot(x='Embarked',data=trainSet,ax=axis1)\n",
    "sns.countplot(x='Survived',hue='Embarked',data=trainSet,ax=axis2)\n",
    "embark=trainSet[['Embarked','Survived']].groupby(['Embarked'],as_index=False).mean()\n",
    "sns.barplot(x='Embarked',y='Survived',data=embark,ax=axis3,order=['S','C','Q'])"
   ]
  },
  {
   "cell_type": "code",
   "execution_count": 20,
   "metadata": {},
   "outputs": [],
   "source": [
    "from sklearn.preprocessing import LabelEncoder,OneHotEncoder\n",
    "test = trainSet['Embarked']\n",
    "a = LabelEncoder().fit_transform(test.values)\n",
    "b = OneHotEncoder(sparse=False).fit_transform(a.reshape(-1, 1))\n",
    "df_embarked = pd.DataFrame(b,columns=['C','Q','S'])\n",
    "trainSet = trainSet.join(df_embarked)\n",
    "trainSet.drop(['Embarked'],axis=1,inplace=True)"
   ]
  },
  {
   "cell_type": "code",
   "execution_count": 33,
   "metadata": {},
   "outputs": [
    {
     "ename": "ValueError",
     "evalue": "labels ['Cabin' 'Person'] not contained in axis",
     "output_type": "error",
     "traceback": [
      "\u001b[1;31m---------------------------------------------------------------------------\u001b[0m",
      "\u001b[1;31mValueError\u001b[0m                                Traceback (most recent call last)",
      "\u001b[1;32m<ipython-input-33-4974c687ef58>\u001b[0m in \u001b[0;36m<module>\u001b[1;34m()\u001b[0m\n\u001b[0;32m      2\u001b[0m \u001b[0mtrainSet\u001b[0m\u001b[1;33m[\u001b[0m\u001b[1;34m'S'\u001b[0m\u001b[1;33m]\u001b[0m\u001b[1;33m.\u001b[0m\u001b[0mastype\u001b[0m\u001b[1;33m(\u001b[0m\u001b[0mint\u001b[0m\u001b[1;33m)\u001b[0m\u001b[1;33m\u001b[0m\u001b[0m\n\u001b[0;32m      3\u001b[0m \u001b[0mtrainSet\u001b[0m\u001b[1;33m[\u001b[0m\u001b[1;34m'Q'\u001b[0m\u001b[1;33m]\u001b[0m\u001b[1;33m.\u001b[0m\u001b[0mastype\u001b[0m\u001b[1;33m(\u001b[0m\u001b[0mint\u001b[0m\u001b[1;33m)\u001b[0m\u001b[1;33m\u001b[0m\u001b[0m\n\u001b[1;32m----> 4\u001b[1;33m \u001b[0mtrainSet\u001b[0m\u001b[1;33m.\u001b[0m\u001b[0mdrop\u001b[0m\u001b[1;33m(\u001b[0m\u001b[1;33m[\u001b[0m\u001b[1;34m'Cabin'\u001b[0m\u001b[1;33m,\u001b[0m\u001b[1;34m'Person'\u001b[0m\u001b[1;33m]\u001b[0m\u001b[1;33m,\u001b[0m\u001b[0maxis\u001b[0m\u001b[1;33m=\u001b[0m\u001b[1;36m1\u001b[0m\u001b[1;33m,\u001b[0m\u001b[0minplace\u001b[0m\u001b[1;33m=\u001b[0m\u001b[1;32mTrue\u001b[0m\u001b[1;33m)\u001b[0m\u001b[1;33m\u001b[0m\u001b[0m\n\u001b[0m\u001b[0;32m      5\u001b[0m \u001b[1;33m\u001b[0m\u001b[0m\n\u001b[0;32m      6\u001b[0m \u001b[0mtest\u001b[0m \u001b[1;33m=\u001b[0m \u001b[0mtestSet\u001b[0m\u001b[1;33m[\u001b[0m\u001b[1;34m'Embarked'\u001b[0m\u001b[1;33m]\u001b[0m\u001b[1;33m\u001b[0m\u001b[0m\n",
      "\u001b[1;32m~\\Anaconda3\\lib\\site-packages\\pandas\\core\\generic.py\u001b[0m in \u001b[0;36mdrop\u001b[1;34m(self, labels, axis, level, inplace, errors)\u001b[0m\n\u001b[0;32m   2159\u001b[0m                 \u001b[0mnew_axis\u001b[0m \u001b[1;33m=\u001b[0m \u001b[0maxis\u001b[0m\u001b[1;33m.\u001b[0m\u001b[0mdrop\u001b[0m\u001b[1;33m(\u001b[0m\u001b[0mlabels\u001b[0m\u001b[1;33m,\u001b[0m \u001b[0mlevel\u001b[0m\u001b[1;33m=\u001b[0m\u001b[0mlevel\u001b[0m\u001b[1;33m,\u001b[0m \u001b[0merrors\u001b[0m\u001b[1;33m=\u001b[0m\u001b[0merrors\u001b[0m\u001b[1;33m)\u001b[0m\u001b[1;33m\u001b[0m\u001b[0m\n\u001b[0;32m   2160\u001b[0m             \u001b[1;32melse\u001b[0m\u001b[1;33m:\u001b[0m\u001b[1;33m\u001b[0m\u001b[0m\n\u001b[1;32m-> 2161\u001b[1;33m                 \u001b[0mnew_axis\u001b[0m \u001b[1;33m=\u001b[0m \u001b[0maxis\u001b[0m\u001b[1;33m.\u001b[0m\u001b[0mdrop\u001b[0m\u001b[1;33m(\u001b[0m\u001b[0mlabels\u001b[0m\u001b[1;33m,\u001b[0m \u001b[0merrors\u001b[0m\u001b[1;33m=\u001b[0m\u001b[0merrors\u001b[0m\u001b[1;33m)\u001b[0m\u001b[1;33m\u001b[0m\u001b[0m\n\u001b[0m\u001b[0;32m   2162\u001b[0m             \u001b[0mdropped\u001b[0m \u001b[1;33m=\u001b[0m \u001b[0mself\u001b[0m\u001b[1;33m.\u001b[0m\u001b[0mreindex\u001b[0m\u001b[1;33m(\u001b[0m\u001b[1;33m**\u001b[0m\u001b[1;33m{\u001b[0m\u001b[0maxis_name\u001b[0m\u001b[1;33m:\u001b[0m \u001b[0mnew_axis\u001b[0m\u001b[1;33m}\u001b[0m\u001b[1;33m)\u001b[0m\u001b[1;33m\u001b[0m\u001b[0m\n\u001b[0;32m   2163\u001b[0m             \u001b[1;32mtry\u001b[0m\u001b[1;33m:\u001b[0m\u001b[1;33m\u001b[0m\u001b[0m\n",
      "\u001b[1;32m~\\Anaconda3\\lib\\site-packages\\pandas\\core\\indexes\\base.py\u001b[0m in \u001b[0;36mdrop\u001b[1;34m(self, labels, errors)\u001b[0m\n\u001b[0;32m   3622\u001b[0m             \u001b[1;32mif\u001b[0m \u001b[0merrors\u001b[0m \u001b[1;33m!=\u001b[0m \u001b[1;34m'ignore'\u001b[0m\u001b[1;33m:\u001b[0m\u001b[1;33m\u001b[0m\u001b[0m\n\u001b[0;32m   3623\u001b[0m                 raise ValueError('labels %s not contained in axis' %\n\u001b[1;32m-> 3624\u001b[1;33m                                  labels[mask])\n\u001b[0m\u001b[0;32m   3625\u001b[0m             \u001b[0mindexer\u001b[0m \u001b[1;33m=\u001b[0m \u001b[0mindexer\u001b[0m\u001b[1;33m[\u001b[0m\u001b[1;33m~\u001b[0m\u001b[0mmask\u001b[0m\u001b[1;33m]\u001b[0m\u001b[1;33m\u001b[0m\u001b[0m\n\u001b[0;32m   3626\u001b[0m         \u001b[1;32mreturn\u001b[0m \u001b[0mself\u001b[0m\u001b[1;33m.\u001b[0m\u001b[0mdelete\u001b[0m\u001b[1;33m(\u001b[0m\u001b[0mindexer\u001b[0m\u001b[1;33m)\u001b[0m\u001b[1;33m\u001b[0m\u001b[0m\n",
      "\u001b[1;31mValueError\u001b[0m: labels ['Cabin' 'Person'] not contained in axis"
     ]
    }
   ],
   "source": [
    "trainSet['C']=trainSet['C'].astype(int)\n",
    "trainSet['S']=trainSet['S'].astype(int)\n",
    "trainSet['Q']=trainSet['Q'].astype(int)\n",
    "trainSet.drop(['Cabin','Person'],axis=1,inplace=True)\n",
    "\n",
    "test = testSet['Embarked']\n",
    "a = LabelEncoder().fit_transform(test.values)\n",
    "b = OneHotEncoder(sparse=False).fit_transform(a.reshape(-1, 1))\n",
    "df_embarked = pd.DataFrame(b,columns=['C','Q','S'])\n",
    "testSet = testSet.join(df_embarked)\n",
    "testSet.drop(['Embarked','Cabin','Person'],axis=1,inplace=True)\n",
    "testSet['C']=testSet['C'].astype(int)\n",
    "testSet['S']=testSet['S'].astype(int)\n",
    "testSet['Q']=testSet['Q'].astype(int)"
   ]
  },
  {
   "cell_type": "code",
   "execution_count": 53,
   "metadata": {},
   "outputs": [],
   "source": [
    "from sklearn.preprocessing import StandardScaler\n",
    "trainSet['Age'] = StandardScaler().fit_transform(trainSet['Age'].values.reshape(-1,1))\n",
    "trainSet['Fare'] = StandardScaler().fit_transform(trainSet['Fare'].values.reshape(-1,1))\n",
    "\n",
    "testSet['Age'] = StandardScaler().fit_transform(testSet['Age'].values.reshape(-1,1))\n",
    "testSet['Fare'] = StandardScaler().fit_transform(testSet['Fare'].values.reshape(-1,1))"
   ]
  },
  {
   "cell_type": "code",
   "execution_count": 54,
   "metadata": {},
   "outputs": [
    {
     "data": {
      "text/html": [
       "<div>\n",
       "<style>\n",
       "    .dataframe thead tr:only-child th {\n",
       "        text-align: right;\n",
       "    }\n",
       "\n",
       "    .dataframe thead th {\n",
       "        text-align: left;\n",
       "    }\n",
       "\n",
       "    .dataframe tbody tr th {\n",
       "        vertical-align: top;\n",
       "    }\n",
       "</style>\n",
       "<table border=\"1\" class=\"dataframe\">\n",
       "  <thead>\n",
       "    <tr style=\"text-align: right;\">\n",
       "      <th></th>\n",
       "      <th>PassengerId</th>\n",
       "      <th>Age</th>\n",
       "      <th>Fare</th>\n",
       "      <th>Class_1</th>\n",
       "      <th>Class_2</th>\n",
       "      <th>Class_3</th>\n",
       "      <th>Child</th>\n",
       "      <th>Female</th>\n",
       "      <th>Male</th>\n",
       "      <th>Family</th>\n",
       "      <th>C</th>\n",
       "      <th>Q</th>\n",
       "      <th>S</th>\n",
       "    </tr>\n",
       "  </thead>\n",
       "  <tbody>\n",
       "    <tr>\n",
       "      <th>0</th>\n",
       "      <td>892</td>\n",
       "      <td>0.284125</td>\n",
       "      <td>-0.504292</td>\n",
       "      <td>0</td>\n",
       "      <td>0</td>\n",
       "      <td>1</td>\n",
       "      <td>0</td>\n",
       "      <td>0</td>\n",
       "      <td>1</td>\n",
       "      <td>0</td>\n",
       "      <td>0.0</td>\n",
       "      <td>1.0</td>\n",
       "      <td>0.0</td>\n",
       "    </tr>\n",
       "    <tr>\n",
       "      <th>1</th>\n",
       "      <td>893</td>\n",
       "      <td>1.275098</td>\n",
       "      <td>-0.504292</td>\n",
       "      <td>0</td>\n",
       "      <td>0</td>\n",
       "      <td>1</td>\n",
       "      <td>0</td>\n",
       "      <td>1</td>\n",
       "      <td>0</td>\n",
       "      <td>1</td>\n",
       "      <td>0.0</td>\n",
       "      <td>0.0</td>\n",
       "      <td>1.0</td>\n",
       "    </tr>\n",
       "    <tr>\n",
       "      <th>2</th>\n",
       "      <td>894</td>\n",
       "      <td>2.418528</td>\n",
       "      <td>-0.468443</td>\n",
       "      <td>0</td>\n",
       "      <td>1</td>\n",
       "      <td>0</td>\n",
       "      <td>0</td>\n",
       "      <td>0</td>\n",
       "      <td>1</td>\n",
       "      <td>0</td>\n",
       "      <td>0.0</td>\n",
       "      <td>1.0</td>\n",
       "      <td>0.0</td>\n",
       "    </tr>\n",
       "    <tr>\n",
       "      <th>3</th>\n",
       "      <td>895</td>\n",
       "      <td>-0.249476</td>\n",
       "      <td>-0.486368</td>\n",
       "      <td>0</td>\n",
       "      <td>0</td>\n",
       "      <td>1</td>\n",
       "      <td>0</td>\n",
       "      <td>0</td>\n",
       "      <td>1</td>\n",
       "      <td>0</td>\n",
       "      <td>0.0</td>\n",
       "      <td>0.0</td>\n",
       "      <td>1.0</td>\n",
       "    </tr>\n",
       "    <tr>\n",
       "      <th>4</th>\n",
       "      <td>896</td>\n",
       "      <td>-0.630619</td>\n",
       "      <td>-0.414669</td>\n",
       "      <td>0</td>\n",
       "      <td>0</td>\n",
       "      <td>1</td>\n",
       "      <td>0</td>\n",
       "      <td>1</td>\n",
       "      <td>0</td>\n",
       "      <td>1</td>\n",
       "      <td>0.0</td>\n",
       "      <td>0.0</td>\n",
       "      <td>1.0</td>\n",
       "    </tr>\n",
       "  </tbody>\n",
       "</table>\n",
       "</div>"
      ],
      "text/plain": [
       "   PassengerId       Age      Fare  Class_1  Class_2  Class_3  Child  Female  \\\n",
       "0          892  0.284125 -0.504292        0        0        1      0       0   \n",
       "1          893  1.275098 -0.504292        0        0        1      0       1   \n",
       "2          894  2.418528 -0.468443        0        1        0      0       0   \n",
       "3          895 -0.249476 -0.486368        0        0        1      0       0   \n",
       "4          896 -0.630619 -0.414669        0        0        1      0       1   \n",
       "\n",
       "   Male  Family    C    Q    S  \n",
       "0     1       0  0.0  1.0  0.0  \n",
       "1     0       1  0.0  0.0  1.0  \n",
       "2     1       0  0.0  1.0  0.0  \n",
       "3     1       0  0.0  0.0  1.0  \n",
       "4     0       1  0.0  0.0  1.0  "
      ]
     },
     "execution_count": 54,
     "metadata": {},
     "output_type": "execute_result"
    }
   ],
   "source": [
    "testSet.head()"
   ]
  },
  {
   "cell_type": "code",
   "execution_count": 55,
   "metadata": {
    "collapsed": true
   },
   "outputs": [],
   "source": [
    "X_train = trainSet.drop('Survived',axis=1)\n",
    "y_train = trainSet['Survived']\n",
    "X_test = testSet.drop('PassengerId',axis=1).copy()"
   ]
  },
  {
   "cell_type": "code",
   "execution_count": 81,
   "metadata": {
    "collapsed": true
   },
   "outputs": [],
   "source": [
    "from sklearn.linear_model import LogisticRegression\n",
    "from sklearn.svm import SVC, LinearSVC\n",
    "from sklearn.ensemble import RandomForestClassifier,GradientBoostingClassifier,BaggingClassifier\n",
    "from sklearn.neighbors import KNeighborsClassifier\n",
    "from sklearn.naive_bayes import GaussianNB"
   ]
  },
  {
   "cell_type": "code",
   "execution_count": 57,
   "metadata": {},
   "outputs": [
    {
     "data": {
      "text/plain": [
       "0.80920314253647585"
      ]
     },
     "execution_count": 57,
     "metadata": {},
     "output_type": "execute_result"
    }
   ],
   "source": [
    "logreg = LogisticRegression()\n",
    "logreg.fit(X_train,y_train)\n",
    "pred = logreg.predict(X_test)\n",
    "logreg.score(X_train,y_train)"
   ]
  },
  {
   "cell_type": "code",
   "execution_count": 96,
   "metadata": {},
   "outputs": [
    {
     "data": {
      "text/plain": [
       "0.85185185185185186"
      ]
     },
     "execution_count": 96,
     "metadata": {},
     "output_type": "execute_result"
    }
   ],
   "source": [
    "svc = SVC(C=1000,gamma=0.1)\n",
    "svc.fit(X_train,y_train)\n",
    "pred = svc.predict(X_test)\n",
    "svc.score(X_train,y_train)"
   ]
  },
  {
   "cell_type": "code",
   "execution_count": 59,
   "metadata": {},
   "outputs": [
    {
     "data": {
      "text/plain": [
       "0.87317620650953987"
      ]
     },
     "execution_count": 59,
     "metadata": {},
     "output_type": "execute_result"
    }
   ],
   "source": [
    "knn = KNeighborsClassifier(n_neighbors = 3)\n",
    "knn.fit(X_train, y_train)\n",
    "pred = knn.predict(X_test)\n",
    "knn.score(X_train, y_train)"
   ]
  },
  {
   "cell_type": "code",
   "execution_count": 60,
   "metadata": {},
   "outputs": [
    {
     "data": {
      "text/plain": [
       "0.77328843995510665"
      ]
     },
     "execution_count": 60,
     "metadata": {},
     "output_type": "execute_result"
    }
   ],
   "source": [
    "gaussian = GaussianNB()\n",
    "gaussian.fit(X_train, y_train)\n",
    "pred = gaussian.predict(X_test)\n",
    "gaussian.score(X_train, y_train)"
   ]
  },
  {
   "cell_type": "code",
   "execution_count": 80,
   "metadata": {},
   "outputs": [
    {
     "data": {
      "text/plain": [
       "0.96857463524130194"
      ]
     },
     "execution_count": 80,
     "metadata": {},
     "output_type": "execute_result"
    }
   ],
   "source": [
    "gbclf= GradientBoostingClassifier(learning_rate=1.0,max_depth=None)\n",
    "gbclf.fit(X_train, y_train)\n",
    "pred = gbclf.predict(X_test)\n",
    "gbclf.score(X_train, y_train)"
   ]
  },
  {
   "cell_type": "code",
   "execution_count": 83,
   "metadata": {},
   "outputs": [
    {
     "data": {
      "text/plain": [
       "0.88776655443322106"
      ]
     },
     "execution_count": 83,
     "metadata": {},
     "output_type": "execute_result"
    }
   ],
   "source": [
    "bagging = BaggingClassifier(RandomForestClassifier(),max_samples=0.5, max_features=0.5)\n",
    "bagging.fit(X_train,y_train)\n",
    "pred = bagging.predict(X_test)\n",
    "bagging.score(X_train,y_train)"
   ]
  },
  {
   "cell_type": "code",
   "execution_count": 104,
   "metadata": {},
   "outputs": [
    {
     "name": "stdout",
     "output_type": "stream",
     "text": [
      "0.81593714927\n",
      "{'criterion': 'gini', 'min_samples_leaf': 1, 'min_samples_split': 10, 'n_estimators': 100}\n",
      "{'split0_test_score': array([ 0.75757576,  0.76767677,  0.76430976,  0.76430976,  0.76430976,\n",
      "        0.77441077,  0.76430976,  0.75757576,  0.75420875,  0.75420875,\n",
      "        0.77441077,  0.78787879,  0.77441077,  0.77104377,  0.77441077,\n",
      "        0.77441077,  0.77777778,  0.75757576,  0.76094276,  0.75757576,\n",
      "        0.78451178,  0.76767677,  0.77777778,  0.77777778,  0.77104377,\n",
      "        0.76094276,  0.76767677,  0.76767677,  0.76430976,  0.76094276,\n",
      "        0.76094276,  0.76767677,  0.76767677,  0.76430976,  0.76094276,\n",
      "        0.76094276,  0.76767677,  0.76767677,  0.76430976,  0.76094276,\n",
      "        0.75757576,  0.76430976,  0.76430976,  0.76094276,  0.76767677,\n",
      "        0.78451178,  0.77777778,  0.77104377,  0.76767677,  0.76430976,\n",
      "        0.79461279,  0.77777778,  0.77104377,  0.77441077,  0.77441077,\n",
      "        0.79461279,  0.77777778,  0.77104377,  0.77441077,  0.77441077,\n",
      "        0.79461279,  0.77777778,  0.77104377,  0.77441077,  0.77441077,\n",
      "        0.79461279,  0.77777778,  0.77104377,  0.77441077,  0.77441077,\n",
      "        0.79461279,  0.77777778,  0.77104377,  0.77441077,  0.77441077,\n",
      "        0.76767677,  0.77441077,  0.76430976,  0.76430976,  0.76430976,\n",
      "        0.76767677,  0.74410774,  0.76094276,  0.75757576,  0.76094276,\n",
      "        0.77777778,  0.77104377,  0.77777778,  0.76767677,  0.77104377,\n",
      "        0.76767677,  0.76767677,  0.77104377,  0.76767677,  0.76094276,\n",
      "        0.7979798 ,  0.77777778,  0.77777778,  0.76767677,  0.76430976,\n",
      "        0.78451178,  0.76767677,  0.77777778,  0.76767677,  0.76094276,\n",
      "        0.78451178,  0.76767677,  0.77777778,  0.76767677,  0.76094276,\n",
      "        0.78451178,  0.76767677,  0.77777778,  0.76767677,  0.76094276,\n",
      "        0.77104377,  0.76767677,  0.76767677,  0.76094276,  0.77104377,\n",
      "        0.79124579,  0.76767677,  0.77777778,  0.77441077,  0.76430976,\n",
      "        0.8013468 ,  0.76430976,  0.76430976,  0.76767677,  0.77104377,\n",
      "        0.8013468 ,  0.76430976,  0.76430976,  0.76767677,  0.77104377,\n",
      "        0.8013468 ,  0.76430976,  0.76430976,  0.76767677,  0.77104377,\n",
      "        0.8013468 ,  0.76430976,  0.76430976,  0.76767677,  0.77104377,\n",
      "        0.8013468 ,  0.76430976,  0.76430976,  0.76767677,  0.77104377]), 'split1_test_score': array([ 0.78787879,  0.78787879,  0.79124579,  0.79124579,  0.79124579,\n",
      "        0.81818182,  0.81818182,  0.82828283,  0.81818182,  0.81818182,\n",
      "        0.81818182,  0.83164983,  0.82491582,  0.82491582,  0.82154882,\n",
      "        0.81481481,  0.83501684,  0.82828283,  0.83501684,  0.83164983,\n",
      "        0.82828283,  0.82828283,  0.82828283,  0.82828283,  0.82491582,\n",
      "        0.82491582,  0.82828283,  0.81818182,  0.81818182,  0.81818182,\n",
      "        0.82491582,  0.82828283,  0.81818182,  0.81818182,  0.81818182,\n",
      "        0.82491582,  0.82828283,  0.81818182,  0.81818182,  0.81818182,\n",
      "        0.82154882,  0.81818182,  0.82154882,  0.81818182,  0.81818182,\n",
      "        0.82154882,  0.82828283,  0.82491582,  0.82491582,  0.82828283,\n",
      "        0.81481481,  0.82154882,  0.82491582,  0.82154882,  0.82154882,\n",
      "        0.81481481,  0.82154882,  0.82491582,  0.82154882,  0.82154882,\n",
      "        0.81481481,  0.82154882,  0.82491582,  0.82154882,  0.82154882,\n",
      "        0.81481481,  0.82154882,  0.82491582,  0.82154882,  0.82154882,\n",
      "        0.81481481,  0.82154882,  0.82491582,  0.82154882,  0.82154882,\n",
      "        0.79124579,  0.79124579,  0.79124579,  0.79124579,  0.79124579,\n",
      "        0.80808081,  0.8047138 ,  0.82491582,  0.81818182,  0.81144781,\n",
      "        0.8047138 ,  0.81818182,  0.82828283,  0.81818182,  0.81818182,\n",
      "        0.81481481,  0.83501684,  0.83838384,  0.82828283,  0.83501684,\n",
      "        0.81818182,  0.82491582,  0.83164983,  0.82828283,  0.83164983,\n",
      "        0.82828283,  0.81481481,  0.81481481,  0.81481481,  0.81481481,\n",
      "        0.82828283,  0.81481481,  0.81481481,  0.81481481,  0.81481481,\n",
      "        0.82828283,  0.81481481,  0.81481481,  0.81481481,  0.81481481,\n",
      "        0.82491582,  0.82491582,  0.81818182,  0.81818182,  0.81818182,\n",
      "        0.82491582,  0.82154882,  0.82828283,  0.82828283,  0.82828283,\n",
      "        0.82154882,  0.82491582,  0.82491582,  0.82491582,  0.82491582,\n",
      "        0.82154882,  0.82491582,  0.82491582,  0.82491582,  0.82491582,\n",
      "        0.82154882,  0.82491582,  0.82491582,  0.82491582,  0.82491582,\n",
      "        0.82154882,  0.82491582,  0.82491582,  0.82491582,  0.82491582,\n",
      "        0.82154882,  0.82491582,  0.82491582,  0.82491582,  0.82491582]), 'split2_test_score': array([ 0.78451178,  0.78451178,  0.78451178,  0.78114478,  0.78114478,\n",
      "        0.79461279,  0.7979798 ,  0.8013468 ,  0.80808081,  0.80808081,\n",
      "        0.83164983,  0.82828283,  0.82828283,  0.82828283,  0.82828283,\n",
      "        0.82154882,  0.82491582,  0.83164983,  0.83164983,  0.82828283,\n",
      "        0.82154882,  0.81818182,  0.81818182,  0.81818182,  0.82491582,\n",
      "        0.82828283,  0.81818182,  0.81144781,  0.81818182,  0.81818182,\n",
      "        0.82828283,  0.81818182,  0.81144781,  0.81818182,  0.81818182,\n",
      "        0.82828283,  0.81818182,  0.81144781,  0.81818182,  0.81818182,\n",
      "        0.80808081,  0.81481481,  0.81818182,  0.81481481,  0.81481481,\n",
      "        0.81481481,  0.81481481,  0.80808081,  0.8047138 ,  0.8047138 ,\n",
      "        0.8013468 ,  0.8047138 ,  0.8047138 ,  0.80808081,  0.80808081,\n",
      "        0.8013468 ,  0.8047138 ,  0.8047138 ,  0.80808081,  0.80808081,\n",
      "        0.8013468 ,  0.8047138 ,  0.8047138 ,  0.80808081,  0.80808081,\n",
      "        0.8013468 ,  0.8047138 ,  0.8047138 ,  0.80808081,  0.80808081,\n",
      "        0.8013468 ,  0.8047138 ,  0.8047138 ,  0.80808081,  0.80808081,\n",
      "        0.77777778,  0.78787879,  0.78451178,  0.78114478,  0.78451178,\n",
      "        0.78451178,  0.8013468 ,  0.8013468 ,  0.8013468 ,  0.8013468 ,\n",
      "        0.82491582,  0.81818182,  0.82828283,  0.82491582,  0.82491582,\n",
      "        0.82491582,  0.82828283,  0.82828283,  0.82828283,  0.82828283,\n",
      "        0.82154882,  0.82154882,  0.82491582,  0.82154882,  0.81818182,\n",
      "        0.82154882,  0.81818182,  0.81818182,  0.81818182,  0.81818182,\n",
      "        0.82154882,  0.81818182,  0.81818182,  0.81818182,  0.81818182,\n",
      "        0.82154882,  0.81818182,  0.81818182,  0.81818182,  0.81818182,\n",
      "        0.81481481,  0.81818182,  0.81818182,  0.81818182,  0.81481481,\n",
      "        0.81481481,  0.81818182,  0.81481481,  0.81144781,  0.81481481,\n",
      "        0.80808081,  0.80808081,  0.8047138 ,  0.80808081,  0.81144781,\n",
      "        0.80808081,  0.80808081,  0.8047138 ,  0.80808081,  0.81144781,\n",
      "        0.80808081,  0.80808081,  0.8047138 ,  0.80808081,  0.81144781,\n",
      "        0.80808081,  0.80808081,  0.8047138 ,  0.80808081,  0.81144781,\n",
      "        0.80808081,  0.80808081,  0.8047138 ,  0.80808081,  0.81144781]), 'mean_test_score': array([ 0.77665544,  0.78002245,  0.78002245,  0.77890011,  0.77890011,\n",
      "        0.79573513,  0.79349046,  0.79573513,  0.79349046,  0.79349046,\n",
      "        0.80808081,  0.81593715,  0.80920314,  0.80808081,  0.80808081,\n",
      "        0.80359147,  0.81257015,  0.80583614,  0.80920314,  0.80583614,\n",
      "        0.81144781,  0.8047138 ,  0.80808081,  0.80808081,  0.80695847,\n",
      "        0.8047138 ,  0.8047138 ,  0.79910213,  0.80022447,  0.79910213,\n",
      "        0.8047138 ,  0.8047138 ,  0.79910213,  0.80022447,  0.79910213,\n",
      "        0.8047138 ,  0.8047138 ,  0.79910213,  0.80022447,  0.79910213,\n",
      "        0.79573513,  0.79910213,  0.8013468 ,  0.7979798 ,  0.80022447,\n",
      "        0.80695847,  0.80695847,  0.8013468 ,  0.79910213,  0.79910213,\n",
      "        0.80359147,  0.8013468 ,  0.80022447,  0.8013468 ,  0.8013468 ,\n",
      "        0.80359147,  0.8013468 ,  0.80022447,  0.8013468 ,  0.8013468 ,\n",
      "        0.80359147,  0.8013468 ,  0.80022447,  0.8013468 ,  0.8013468 ,\n",
      "        0.80359147,  0.8013468 ,  0.80022447,  0.8013468 ,  0.8013468 ,\n",
      "        0.80359147,  0.8013468 ,  0.80022447,  0.8013468 ,  0.8013468 ,\n",
      "        0.77890011,  0.78451178,  0.78002245,  0.77890011,  0.78002245,\n",
      "        0.78675645,  0.78338945,  0.79573513,  0.79236813,  0.79124579,\n",
      "        0.80246914,  0.80246914,  0.81144781,  0.80359147,  0.8047138 ,\n",
      "        0.80246914,  0.81032548,  0.81257015,  0.80808081,  0.80808081,\n",
      "        0.81257015,  0.80808081,  0.81144781,  0.80583614,  0.8047138 ,\n",
      "        0.81144781,  0.80022447,  0.80359147,  0.80022447,  0.7979798 ,\n",
      "        0.81144781,  0.80022447,  0.80359147,  0.80022447,  0.7979798 ,\n",
      "        0.81144781,  0.80022447,  0.80359147,  0.80022447,  0.7979798 ,\n",
      "        0.80359147,  0.80359147,  0.8013468 ,  0.79910213,  0.8013468 ,\n",
      "        0.81032548,  0.80246914,  0.80695847,  0.8047138 ,  0.80246914,\n",
      "        0.81032548,  0.79910213,  0.7979798 ,  0.80022447,  0.80246914,\n",
      "        0.81032548,  0.79910213,  0.7979798 ,  0.80022447,  0.80246914,\n",
      "        0.81032548,  0.79910213,  0.7979798 ,  0.80022447,  0.80246914,\n",
      "        0.81032548,  0.79910213,  0.7979798 ,  0.80022447,  0.80246914,\n",
      "        0.81032548,  0.79910213,  0.7979798 ,  0.80022447,  0.80246914]), 'std_test_score': array([ 0.01356122,  0.00883727,  0.01144561,  0.01111054,  0.01111054,\n",
      "        0.01788707,  0.02222109,  0.0291375 ,  0.0280808 ,  0.0280808 ,\n",
      "        0.02443495,  0.01988782,  0.02464029,  0.02622519,  0.02396651,\n",
      "        0.0208162 ,  0.02494513,  0.03415292,  0.03415292,  0.03415292,\n",
      "        0.01924403,  0.02651181,  0.02182068,  0.02182068,  0.02539553,\n",
      "        0.03098131,  0.02651181,  0.0223905 ,  0.02539553,  0.02698275,\n",
      "        0.03098131,  0.02651181,  0.0223905 ,  0.02539553,  0.02698275,\n",
      "        0.03098131,  0.02651181,  0.0223905 ,  0.02539553,  0.02698275,\n",
      "        0.02753725,  0.02464029,  0.02622519,  0.02622519,  0.02305571,\n",
      "        0.01610853,  0.02135387,  0.02250274,  0.02370226,  0.02641662,\n",
      "        0.00839878,  0.01802736,  0.02222109,  0.01982438,  0.01982438,\n",
      "        0.00839878,  0.01802736,  0.02222109,  0.01982438,  0.01982438,\n",
      "        0.00839878,  0.01802736,  0.02222109,  0.01982438,  0.01982438,\n",
      "        0.00839878,  0.01802736,  0.02222109,  0.01982438,  0.01982438,\n",
      "        0.00839878,  0.01802736,  0.02222109,  0.01982438,  0.01982438,\n",
      "        0.00965469,  0.00727356,  0.01144561,  0.01111054,  0.01144561,\n",
      "        0.01657107,  0.02781035,  0.02641662,  0.0255439 ,  0.02182068,\n",
      "        0.01930937,  0.02222109,  0.02380831,  0.0255439 ,  0.02396651,\n",
      "        0.02494513,  0.03028224,  0.02965173,  0.02856997,  0.03344481,\n",
      "        0.0104081 ,  0.02147152,  0.02396651,  0.02712244,  0.02909423,\n",
      "        0.01924403,  0.02305571,  0.01830472,  0.02305571,  0.02622519,\n",
      "        0.01924403,  0.02305571,  0.01830472,  0.02305571,  0.02622519,\n",
      "        0.01924403,  0.02305571,  0.01830472,  0.02305571,  0.02622519,\n",
      "        0.02338122,  0.0255439 ,  0.02380831,  0.02698275,  0.02147152,\n",
      "        0.01410753,  0.02464029,  0.02135387,  0.02250274,  0.02753725,\n",
      "        0.00839878,  0.0255439 ,  0.02519635,  0.02401901,  0.02289122,\n",
      "        0.00839878,  0.0255439 ,  0.02519635,  0.02401901,  0.02289122,\n",
      "        0.00839878,  0.0255439 ,  0.02519635,  0.02401901,  0.02289122,\n",
      "        0.00839878,  0.0255439 ,  0.02519635,  0.02401901,  0.02289122,\n",
      "        0.00839878,  0.0255439 ,  0.02519635,  0.02401901,  0.02289122]), 'rank_test_score': array([150, 142, 142, 146, 146, 130, 134, 130, 134, 134,  20,   1,  18,\n",
      "        20,  20,  45,   2,  32,  18,  32,   5,  35,  20,  20,  28,  35,\n",
      "        35, 106,  86, 106,  35,  35, 106,  86, 106,  35,  35, 106,  86,\n",
      "       106, 130, 106,  67, 121,  86,  28,  28,  67, 106, 106,  45,  67,\n",
      "        86,  67,  67,  45,  67,  86,  67,  67,  45,  67,  86,  67,  67,\n",
      "        45,  67,  86,  67,  67,  45,  67,  86,  67,  67, 146, 140, 142,\n",
      "       146, 142, 139, 141, 130, 137, 138,  57,  57,   5,  45,  35,  57,\n",
      "        11,   2,  20,  20,   2,  20,   5,  32,  35,   5,  86,  45,  86,\n",
      "       121,   5,  86,  45,  86, 121,   5,  86,  45,  86, 121,  45,  45,\n",
      "        67, 106,  67,  11,  57,  28,  35,  57,  11, 106, 121,  86,  57,\n",
      "        11, 106, 121,  86,  57,  11, 106, 121,  86,  57,  11, 106, 121,\n",
      "        86,  57,  11, 106, 121,  86,  57]), 'split0_train_score': array([ 0.97979798,  0.98148148,  0.98148148,  0.98148148,  0.98148148,\n",
      "        0.94949495,  0.95117845,  0.95622896,  0.95791246,  0.95622896,\n",
      "        0.9040404 ,  0.90909091,  0.90740741,  0.91245791,  0.91245791,\n",
      "        0.89225589,  0.9040404 ,  0.90740741,  0.9006734 ,  0.8989899 ,\n",
      "        0.87373737,  0.87878788,  0.88552189,  0.88888889,  0.88888889,\n",
      "        0.87878788,  0.87542088,  0.88215488,  0.88047138,  0.88047138,\n",
      "        0.87878788,  0.87542088,  0.88215488,  0.88047138,  0.88047138,\n",
      "        0.87878788,  0.87542088,  0.88215488,  0.88047138,  0.88047138,\n",
      "        0.87542088,  0.88047138,  0.87542088,  0.87542088,  0.87542088,\n",
      "        0.86868687,  0.86195286,  0.86700337,  0.86531987,  0.86700337,\n",
      "        0.85016835,  0.85353535,  0.84848485,  0.84680135,  0.84848485,\n",
      "        0.85016835,  0.85353535,  0.84848485,  0.84680135,  0.84848485,\n",
      "        0.85016835,  0.85353535,  0.84848485,  0.84680135,  0.84848485,\n",
      "        0.85016835,  0.85353535,  0.84848485,  0.84680135,  0.84848485,\n",
      "        0.85016835,  0.85353535,  0.84848485,  0.84680135,  0.84848485,\n",
      "        0.97979798,  0.98148148,  0.98148148,  0.98148148,  0.98148148,\n",
      "        0.95454545,  0.95622896,  0.95791246,  0.95791246,  0.95791246,\n",
      "        0.9040404 ,  0.90909091,  0.91750842,  0.91582492,  0.91582492,\n",
      "        0.8956229 ,  0.9040404 ,  0.90572391,  0.9023569 ,  0.9023569 ,\n",
      "        0.87878788,  0.87542088,  0.88888889,  0.89057239,  0.8956229 ,\n",
      "        0.87878788,  0.88047138,  0.88215488,  0.87710438,  0.87878788,\n",
      "        0.87878788,  0.88047138,  0.88215488,  0.87710438,  0.87878788,\n",
      "        0.87878788,  0.88047138,  0.88215488,  0.87710438,  0.87878788,\n",
      "        0.87710438,  0.88215488,  0.87710438,  0.88215488,  0.87710438,\n",
      "        0.85858586,  0.87373737,  0.87037037,  0.87037037,  0.87373737,\n",
      "        0.85016835,  0.85353535,  0.85185185,  0.84848485,  0.84511785,\n",
      "        0.85016835,  0.85353535,  0.85185185,  0.84848485,  0.84511785,\n",
      "        0.85016835,  0.85353535,  0.85185185,  0.84848485,  0.84511785,\n",
      "        0.85016835,  0.85353535,  0.85185185,  0.84848485,  0.84511785,\n",
      "        0.85016835,  0.85353535,  0.85185185,  0.84848485,  0.84511785]), 'split1_train_score': array([ 0.96969697,  0.97306397,  0.97306397,  0.97306397,  0.97306397,\n",
      "        0.94612795,  0.94444444,  0.93939394,  0.94444444,  0.94107744,\n",
      "        0.89225589,  0.89393939,  0.88552189,  0.88552189,  0.88552189,\n",
      "        0.87878788,  0.88047138,  0.87710438,  0.87542088,  0.87542088,\n",
      "        0.85690236,  0.86026936,  0.85858586,  0.86026936,  0.86026936,\n",
      "        0.84006734,  0.84680135,  0.84680135,  0.85185185,  0.85185185,\n",
      "        0.84006734,  0.84680135,  0.84680135,  0.85185185,  0.85185185,\n",
      "        0.84006734,  0.84680135,  0.84680135,  0.85185185,  0.85185185,\n",
      "        0.84848485,  0.85353535,  0.85016835,  0.85016835,  0.85016835,\n",
      "        0.83501684,  0.84175084,  0.84848485,  0.84848485,  0.84848485,\n",
      "        0.83670034,  0.83501684,  0.83838384,  0.84006734,  0.84006734,\n",
      "        0.83670034,  0.83501684,  0.83838384,  0.84006734,  0.84006734,\n",
      "        0.83670034,  0.83501684,  0.83838384,  0.84006734,  0.84006734,\n",
      "        0.83670034,  0.83501684,  0.83838384,  0.84006734,  0.84006734,\n",
      "        0.83670034,  0.83501684,  0.83838384,  0.84006734,  0.84006734,\n",
      "        0.96969697,  0.97306397,  0.97306397,  0.97306397,  0.97306397,\n",
      "        0.94612795,  0.94612795,  0.94107744,  0.94612795,  0.94781145,\n",
      "        0.89393939,  0.8989899 ,  0.89057239,  0.89057239,  0.88888889,\n",
      "        0.87710438,  0.88383838,  0.87542088,  0.88047138,  0.87878788,\n",
      "        0.85690236,  0.85353535,  0.86363636,  0.86195286,  0.86195286,\n",
      "        0.85521886,  0.85690236,  0.85185185,  0.85521886,  0.85353535,\n",
      "        0.85521886,  0.85690236,  0.85185185,  0.85521886,  0.85353535,\n",
      "        0.85521886,  0.85690236,  0.85185185,  0.85521886,  0.85353535,\n",
      "        0.84343434,  0.84343434,  0.85016835,  0.85185185,  0.85353535,\n",
      "        0.83501684,  0.84175084,  0.84848485,  0.84848485,  0.84848485,\n",
      "        0.83501684,  0.83838384,  0.83670034,  0.83838384,  0.83670034,\n",
      "        0.83501684,  0.83838384,  0.83670034,  0.83838384,  0.83670034,\n",
      "        0.83501684,  0.83838384,  0.83670034,  0.83838384,  0.83670034,\n",
      "        0.83501684,  0.83838384,  0.83670034,  0.83838384,  0.83670034,\n",
      "        0.83501684,  0.83838384,  0.83670034,  0.83838384,  0.83670034]), 'split2_train_score': array([ 0.96801347,  0.96801347,  0.96801347,  0.96801347,  0.96801347,\n",
      "        0.93434343,  0.93939394,  0.93434343,  0.93434343,  0.93602694,\n",
      "        0.88383838,  0.88047138,  0.88215488,  0.88215488,  0.88047138,\n",
      "        0.87205387,  0.87710438,  0.87710438,  0.87710438,  0.87710438,\n",
      "        0.87037037,  0.86700337,  0.87205387,  0.87037037,  0.86868687,\n",
      "        0.86531987,  0.87037037,  0.86868687,  0.87037037,  0.87037037,\n",
      "        0.86531987,  0.87037037,  0.86868687,  0.87037037,  0.87037037,\n",
      "        0.86531987,  0.87037037,  0.86868687,  0.87037037,  0.87037037,\n",
      "        0.86026936,  0.86363636,  0.86868687,  0.86868687,  0.86868687,\n",
      "        0.85858586,  0.86195286,  0.85690236,  0.85858586,  0.85690236,\n",
      "        0.84343434,  0.85185185,  0.85185185,  0.85185185,  0.85185185,\n",
      "        0.84343434,  0.85185185,  0.85185185,  0.85185185,  0.85185185,\n",
      "        0.84343434,  0.85185185,  0.85185185,  0.85185185,  0.85185185,\n",
      "        0.84343434,  0.85185185,  0.85185185,  0.85185185,  0.85185185,\n",
      "        0.84343434,  0.85185185,  0.85185185,  0.85185185,  0.85185185,\n",
      "        0.96632997,  0.96801347,  0.96801347,  0.96801347,  0.96801347,\n",
      "        0.94276094,  0.94107744,  0.93939394,  0.93771044,  0.93939394,\n",
      "        0.88047138,  0.87878788,  0.88383838,  0.88383838,  0.88383838,\n",
      "        0.87373737,  0.87205387,  0.87878788,  0.87710438,  0.87373737,\n",
      "        0.86700337,  0.87037037,  0.87373737,  0.87037037,  0.87205387,\n",
      "        0.86700337,  0.86531987,  0.86868687,  0.86868687,  0.86868687,\n",
      "        0.86700337,  0.86531987,  0.86868687,  0.86868687,  0.86868687,\n",
      "        0.86700337,  0.86531987,  0.86868687,  0.86868687,  0.86868687,\n",
      "        0.86026936,  0.86531987,  0.86868687,  0.86868687,  0.86868687,\n",
      "        0.85521886,  0.85690236,  0.86195286,  0.86363636,  0.86363636,\n",
      "        0.84343434,  0.85016835,  0.85521886,  0.85185185,  0.85353535,\n",
      "        0.84343434,  0.85016835,  0.85521886,  0.85185185,  0.85353535,\n",
      "        0.84343434,  0.85016835,  0.85521886,  0.85185185,  0.85353535,\n",
      "        0.84343434,  0.85016835,  0.85521886,  0.85185185,  0.85353535,\n",
      "        0.84343434,  0.85016835,  0.85521886,  0.85185185,  0.85353535]), 'mean_train_score': array([ 0.97250281,  0.97418631,  0.97418631,  0.97418631,  0.97418631,\n",
      "        0.94332211,  0.94500561,  0.94332211,  0.94556678,  0.94444444,\n",
      "        0.89337823,  0.89450056,  0.89169473,  0.89337823,  0.89281706,\n",
      "        0.88103255,  0.88720539,  0.88720539,  0.88439955,  0.88383838,\n",
      "        0.86700337,  0.86868687,  0.87205387,  0.87317621,  0.87261504,\n",
      "        0.86139169,  0.86419753,  0.86588103,  0.86756453,  0.86756453,\n",
      "        0.86139169,  0.86419753,  0.86588103,  0.86756453,  0.86756453,\n",
      "        0.86139169,  0.86419753,  0.86588103,  0.86756453,  0.86756453,\n",
      "        0.86139169,  0.86588103,  0.8647587 ,  0.8647587 ,  0.8647587 ,\n",
      "        0.85409652,  0.85521886,  0.85746352,  0.85746352,  0.85746352,\n",
      "        0.84343434,  0.84680135,  0.84624018,  0.84624018,  0.84680135,\n",
      "        0.84343434,  0.84680135,  0.84624018,  0.84624018,  0.84680135,\n",
      "        0.84343434,  0.84680135,  0.84624018,  0.84624018,  0.84680135,\n",
      "        0.84343434,  0.84680135,  0.84624018,  0.84624018,  0.84680135,\n",
      "        0.84343434,  0.84680135,  0.84624018,  0.84624018,  0.84680135,\n",
      "        0.97194164,  0.97418631,  0.97418631,  0.97418631,  0.97418631,\n",
      "        0.94781145,  0.94781145,  0.94612795,  0.94725028,  0.94837262,\n",
      "        0.89281706,  0.8956229 ,  0.8973064 ,  0.89674523,  0.89618406,\n",
      "        0.88215488,  0.88664422,  0.88664422,  0.88664422,  0.88496072,\n",
      "        0.86756453,  0.8664422 ,  0.87542088,  0.87429854,  0.87654321,\n",
      "        0.86700337,  0.86756453,  0.86756453,  0.86700337,  0.86700337,\n",
      "        0.86700337,  0.86756453,  0.86756453,  0.86700337,  0.86700337,\n",
      "        0.86700337,  0.86756453,  0.86756453,  0.86700337,  0.86700337,\n",
      "        0.86026936,  0.86363636,  0.86531987,  0.86756453,  0.8664422 ,\n",
      "        0.84960718,  0.85746352,  0.86026936,  0.86083053,  0.86195286,\n",
      "        0.84287318,  0.84736251,  0.84792368,  0.84624018,  0.84511785,\n",
      "        0.84287318,  0.84736251,  0.84792368,  0.84624018,  0.84511785,\n",
      "        0.84287318,  0.84736251,  0.84792368,  0.84624018,  0.84511785,\n",
      "        0.84287318,  0.84736251,  0.84792368,  0.84624018,  0.84511785,\n",
      "        0.84287318,  0.84736251,  0.84792368,  0.84624018,  0.84511785]), 'std_train_score': array([ 0.00520405,  0.00555527,  0.00555527,  0.00555527,  0.00555527,\n",
      "        0.00649598,  0.00482734,  0.00935653,  0.00965469,  0.00858421,\n",
      "        0.00828553,  0.01169061,  0.01119525,  0.01356122,  0.0140404 ,\n",
      "        0.00839878,  0.01198325,  0.01428499,  0.01152786,  0.01073576,\n",
      "        0.00727356,  0.0076533 ,  0.01099659,  0.01185113,  0.0120095 ,\n",
      "        0.01604978,  0.01247256,  0.01456875,  0.01185113,  0.01185113,\n",
      "        0.01604978,  0.01247256,  0.01456875,  0.01185113,  0.01185113,\n",
      "        0.01604978,  0.01247256,  0.01456875,  0.01185113,  0.01185113,\n",
      "        0.01102519,  0.01111054,  0.01067693,  0.01067693,  0.01067693,\n",
      "        0.01410753,  0.00952332,  0.00757056,  0.00691853,  0.00757056,\n",
      "        0.00549829,  0.0083612 ,  0.00572281,  0.00482734,  0.00495609,\n",
      "        0.00549829,  0.0083612 ,  0.00572281,  0.00482734,  0.00495609,\n",
      "        0.00549829,  0.0083612 ,  0.00572281,  0.00482734,  0.00495609,\n",
      "        0.00549829,  0.0083612 ,  0.00572281,  0.00482734,  0.00495609,\n",
      "        0.00549829,  0.0083612 ,  0.00572281,  0.00482734,  0.00495609,\n",
      "        0.00572281,  0.00555527,  0.00555527,  0.00555527,  0.00555527,\n",
      "        0.00495609,  0.00629909,  0.0083612 ,  0.00828553,  0.00757056,\n",
      "        0.00965469,  0.01259817,  0.01454712,  0.01376862,  0.0140404 ,\n",
      "        0.00962201,  0.01320831,  0.01356122,  0.01119525,  0.01247256,\n",
      "        0.00894353,  0.00935653,  0.0103778 ,  0.0120095 ,  0.01410753,\n",
      "        0.00962201,  0.00975205,  0.01239659,  0.00901368,  0.0103778 ,\n",
      "        0.00962201,  0.00975205,  0.01239659,  0.00901368,  0.0103778 ,\n",
      "        0.00962201,  0.00975205,  0.01239659,  0.00901368,  0.0103778 ,\n",
      "        0.01374573,  0.01585235,  0.01125137,  0.01239659,  0.00975205,\n",
      "        0.0104081 ,  0.01306447,  0.00901368,  0.00915236,  0.0103778 ,\n",
      "        0.00619829,  0.00649598,  0.00805426,  0.00572281,  0.00687287,\n",
      "        0.00619829,  0.00649598,  0.00805426,  0.00572281,  0.00687287,\n",
      "        0.00619829,  0.00649598,  0.00805426,  0.00572281,  0.00687287,\n",
      "        0.00619829,  0.00649598,  0.00805426,  0.00572281,  0.00687287,\n",
      "        0.00619829,  0.00649598,  0.00805426,  0.00572281,  0.00687287]), 'mean_fit_time': array([ 0.15036702,  0.22442452,  0.70206308,  1.61140545,  2.098581  ,\n",
      "        0.44134029,  0.26654196,  0.817173  ,  1.37265062,  2.02054024,\n",
      "        0.24899483,  0.25585254,  0.74815607,  1.37281736,  1.89487235,\n",
      "        0.2015361 ,  0.22961028,  0.8113242 ,  1.51001589,  1.98729889,\n",
      "        0.2642022 ,  0.24737446,  0.7546742 ,  1.40807756,  1.92445215,\n",
      "        0.2075518 ,  0.26654434,  0.75818984,  1.28926206,  1.86328856,\n",
      "        0.16427   ,  0.26386817,  0.75099707,  1.31015078,  1.66860652,\n",
      "        0.22727084,  0.33556151,  0.78692722,  1.20370078,  1.8161629 ,\n",
      "        0.24983112,  0.34792511,  0.88050795,  1.35811138,  1.75650438,\n",
      "        0.30781865,  0.23245136,  0.75617719,  1.31583246,  1.93330876,\n",
      "        0.22008514,  0.25818857,  0.78408504,  1.30380066,  1.73594999,\n",
      "        0.17830722,  0.25801937,  0.6778024 ,  1.2187411 ,  1.86897024,\n",
      "        0.20621443,  0.26620785,  0.69367822,  1.22826632,  1.81031402,\n",
      "        0.17229136,  0.26169578,  0.70019547,  1.22575974,  1.72609075,\n",
      "        0.15591431,  0.23596072,  0.69000173,  1.17111421,  1.71389119,\n",
      "        0.1612618 ,  0.22192343,  0.72325659,  1.27906847,  1.88868944,\n",
      "        0.16660961,  0.2830859 ,  0.81733998,  1.28408146,  1.93481239,\n",
      "        0.16677682,  0.23863451,  0.72877129,  1.33755692,  1.84273418,\n",
      "        0.19167622,  0.24381487,  0.70136523,  1.29310576,  1.85225932,\n",
      "        0.17179004,  0.25634805,  0.70804969,  1.35593915,  1.91755668,\n",
      "        0.16176271,  0.23341131,  0.72760177,  1.26252429,  1.81684192,\n",
      "        0.24699171,  0.22142808,  0.69217499,  1.15797631,  1.72571063,\n",
      "        0.18883856,  0.23278213,  0.60446143,  1.09460942,  1.71237437,\n",
      "        0.1704065 ,  0.24164987,  0.64829763,  1.1125292 ,  1.61504873,\n",
      "        0.17600679,  0.21104344,  0.58741124,  1.15073498,  1.75713849,\n",
      "        0.1549147 ,  0.25936627,  0.67329995,  1.21573297,  1.69400549,\n",
      "        0.21109732,  0.23657839,  0.72092962,  1.24046628,  1.90659714,\n",
      "        0.1689496 ,  0.21545887,  0.60494725,  1.14254045,  1.78172596,\n",
      "        0.17346088,  0.22376458,  0.76169419,  1.2172366 ,  1.88297931,\n",
      "        0.1789763 ,  0.24388433,  0.70638363,  1.07436252,  1.72673925]), 'std_fit_time': array([ 0.00147042,  0.02437563,  0.01635314,  0.16250634,  0.10498077,\n",
      "        0.03622153,  0.02858427,  0.05121128,  0.11309312,  0.23342262,\n",
      "        0.08745722,  0.01678119,  0.07866676,  0.09629915,  0.0687887 ,\n",
      "        0.03573413,  0.01655675,  0.06970808,  0.09002907,  0.07819086,\n",
      "        0.07001092,  0.02974874,  0.04849053,  0.05733114,  0.12985966,\n",
      "        0.02853953,  0.06307282,  0.06338049,  0.01161627,  0.1385837 ,\n",
      "        0.00931019,  0.03665165,  0.04495815,  0.15953139,  0.09752161,\n",
      "        0.07479255,  0.07470344,  0.06422586,  0.07374535,  0.20142754,\n",
      "        0.07951304,  0.07591602,  0.13592586,  0.12797693,  0.14838576,\n",
      "        0.08302269,  0.0480029 ,  0.09049099,  0.06846093,  0.09712862,\n",
      "        0.07888307,  0.0525237 ,  0.03265465,  0.07664376,  0.16417733,\n",
      "        0.03849548,  0.05918302,  0.04719452,  0.04144045,  0.08270935,\n",
      "        0.04731729,  0.05246508,  0.05570935,  0.07138451,  0.13414842,\n",
      "        0.01920544,  0.07835672,  0.01107739,  0.18164792,  0.09411293,\n",
      "        0.00335053,  0.03860869,  0.0275331 ,  0.09160274,  0.03198406,\n",
      "        0.01918791,  0.03879277,  0.02169217,  0.07929528,  0.08460922,\n",
      "        0.01710593,  0.05029547,  0.08713601,  0.04748557,  0.09669476,\n",
      "        0.00944437,  0.00897777,  0.02150997,  0.14847831,  0.06889808,\n",
      "        0.04911417,  0.04055622,  0.03066186,  0.16610461,  0.11574956,\n",
      "        0.02353721,  0.06467561,  0.03168143,  0.01723293,  0.0715706 ,\n",
      "        0.00266211,  0.03436992,  0.0626823 ,  0.08734376,  0.20615763,\n",
      "        0.07222341,  0.01964989,  0.0056463 ,  0.13132587,  0.13660157,\n",
      "        0.03982674,  0.06248884,  0.02469477,  0.0303866 ,  0.0506    ,\n",
      "        0.0248514 ,  0.04394114,  0.06284733,  0.04571222,  0.09207368,\n",
      "        0.02682981,  0.02123798,  0.05704686,  0.09084101,  0.07765952,\n",
      "        0.00845617,  0.04650402,  0.07972339,  0.06735544,  0.08681658,\n",
      "        0.05529586,  0.02177358,  0.04289231,  0.11530013,  0.07967416,\n",
      "        0.01845185,  0.0359576 ,  0.01549064,  0.07841309,  0.0750918 ,\n",
      "        0.01008495,  0.03411415,  0.04428589,  0.06620763,  0.0598116 ,\n",
      "        0.00455855,  0.03406524,  0.06717541,  0.07871308,  0.06582768]), 'mean_score_time': array([ 0.10620761,  0.1133016 ,  0.17546662,  0.25985773,  0.29879459,\n",
      "        0.12349502,  0.1590898 ,  0.16660984,  0.19084048,  0.22626837,\n",
      "        0.18131558,  0.11113159,  0.16259917,  0.20554646,  0.22259204,\n",
      "        0.1677796 ,  0.13886929,  0.17429709,  0.30096714,  0.23682141,\n",
      "        0.15441108,  0.13821427,  0.14187725,  0.32737088,  0.22560215,\n",
      "        0.15524618,  0.15224059,  0.17663638,  0.32068602,  0.26787893,\n",
      "        0.23662917,  0.13970486,  0.14705769,  0.25267196,  0.21427472,\n",
      "        0.12082163,  0.2418112 ,  0.11831458,  0.21106108,  0.26086052,\n",
      "        0.18164992,  0.14989877,  0.18348837,  0.26336741,  0.23479112,\n",
      "        0.19435032,  0.11213175,  0.15340829,  0.2984608 ,  0.24966518,\n",
      "        0.13753255,  0.16159622,  0.17095486,  0.21724463,  0.20922327,\n",
      "        0.10795395,  0.10778689,  0.11196462,  0.22459737,  0.21473781,\n",
      "        0.11647669,  0.10444474,  0.15340797,  0.22041941,  0.21156255,\n",
      "        0.19435024,  0.11129634,  0.13686403,  0.21256526,  0.21106132,\n",
      "        0.10628279,  0.11146331,  0.10678426,  0.20805319,  0.20805311,\n",
      "        0.1099592 ,  0.10728526,  0.10945797,  0.21924965,  0.22142227,\n",
      "        0.11213175,  0.11413701,  0.11580801,  0.26286586,  0.21106132,\n",
      "        0.11079462,  0.11781327,  0.10878921,  0.22242514,  0.21473742,\n",
      "        0.10678418,  0.10979199,  0.11413678,  0.19033964,  0.2087218 ,\n",
      "        0.1144712 ,  0.10561442,  0.11196454,  0.2212553 ,  0.21624176,\n",
      "        0.13803395,  0.1077865 ,  0.10962447,  0.23796622,  0.2126085 ,\n",
      "        0.13569474,  0.19671082,  0.11497482,  0.18527865,  0.21036291,\n",
      "        0.10661785,  0.12250543,  0.10630973,  0.21139797,  0.21003874,\n",
      "        0.10480738,  0.11297075,  0.11183182,  0.20839286,  0.20807648,\n",
      "        0.10922122,  0.11148707,  0.10728908,  0.21223092,  0.20745444,\n",
      "        0.14666764,  0.11320074,  0.10578116,  0.21005885,  0.20772513,\n",
      "        0.10548552,  0.1060675 ,  0.13703124,  0.23211749,  0.21106593,\n",
      "        0.14839451,  0.1266772 ,  0.11447112,  0.22944371,  0.21591131,\n",
      "        0.13586148,  0.1256512 ,  0.14187765,  0.22944363,  0.2286129 ,\n",
      "        0.16694371,  0.11530948,  0.10812155,  0.18148255,  0.20780412]), 'std_score_time': array([  7.71983528e-04,   6.58728224e-03,   9.57280902e-02,\n",
      "         3.66494589e-02,   1.08177079e-01,   5.40437369e-03,\n",
      "         7.60984952e-02,   6.26931861e-02,   7.35000172e-02,\n",
      "         4.93485276e-03,   6.31299215e-02,   7.05030359e-03,\n",
      "         3.13200032e-02,   5.40246202e-02,   6.18092045e-03,\n",
      "         4.35714606e-02,   2.23418845e-02,   4.30568627e-02,\n",
      "         5.72916854e-02,   1.69130501e-02,   2.70749642e-02,\n",
      "         2.74852497e-02,   1.99651381e-02,   3.47067382e-02,\n",
      "         9.25028287e-03,   2.70667281e-02,   6.14572623e-02,\n",
      "         3.50846580e-02,   4.54572693e-02,   6.68982005e-02,\n",
      "         6.91513294e-02,   2.93363956e-02,   1.73393762e-02,\n",
      "         3.39058946e-02,   4.76923221e-03,   1.95240221e-02,\n",
      "         1.53772072e-01,   1.08306186e-03,   5.35291372e-02,\n",
      "         1.67895614e-02,   3.28345508e-02,   1.09912755e-02,\n",
      "         6.13309536e-02,   2.02789743e-02,   1.01127557e-02,\n",
      "         4.28072455e-02,   7.57361690e-03,   2.92696024e-02,\n",
      "         6.10685609e-02,   1.23001167e-02,   4.18573583e-02,\n",
      "         2.39952272e-02,   4.87935833e-02,   1.16161055e-01,\n",
      "         8.51925888e-04,   2.46718685e-03,   3.19691392e-03,\n",
      "         1.93450762e-03,   4.82599546e-03,   9.21096992e-03,\n",
      "         1.65632714e-02,   2.36696701e-04,   4.15369785e-02,\n",
      "         3.76063524e-02,   1.87570575e-03,   4.22476224e-02,\n",
      "         4.49566384e-07,   2.17988810e-02,   3.27460700e-03,\n",
      "         5.35302394e-03,   8.18481510e-04,   8.74429096e-03,\n",
      "         4.09192056e-04,   7.09190971e-04,   1.08328258e-03,\n",
      "         2.35966176e-04,   1.78398404e-03,   2.72565561e-03,\n",
      "         9.45494347e-04,   1.68241661e-02,   6.19884670e-03,\n",
      "         1.18450722e-02,   6.19425744e-03,   3.40519768e-02,\n",
      "         3.35089139e-03,   4.33213701e-03,   1.56194156e-02,\n",
      "         3.63833633e-03,   1.16381986e-02,   8.07699799e-03,\n",
      "         1.22796548e-03,   2.68433521e-03,   1.04710385e-02,\n",
      "         3.21825993e-02,   1.43750640e-03,   1.19362288e-02,\n",
      "         1.54973310e-03,   5.92243069e-03,   8.80164339e-03,\n",
      "         7.72690977e-03,   2.45816952e-02,   1.47590280e-03,\n",
      "         5.79385654e-03,   6.52535053e-02,   2.89415949e-03,\n",
      "         2.79138853e-02,   1.21108949e-01,   4.88130258e-03,\n",
      "         4.14965809e-02,   2.86146222e-03,   2.63069657e-03,\n",
      "         2.39845375e-02,   7.25319172e-04,   2.63094884e-03,\n",
      "         1.81913212e-03,   4.09064079e-04,   7.42852281e-03,\n",
      "         9.55284893e-03,   1.24782965e-03,   2.14645470e-03,\n",
      "         6.08022794e-03,   7.39991679e-03,   2.16623406e-03,\n",
      "         4.33835966e-03,   8.29963258e-04,   5.93594562e-02,\n",
      "         6.48630883e-03,   4.09484046e-04,   3.56832535e-03,\n",
      "         9.65097408e-04,   9.18240082e-04,   1.43019808e-03,\n",
      "         1.74886943e-02,   6.54921400e-03,   6.05395933e-03,\n",
      "         5.88591398e-02,   2.74366567e-02,   5.90820142e-03,\n",
      "         1.38467458e-02,   5.55604504e-03,   3.28773064e-02,\n",
      "         1.64002946e-02,   2.37521476e-02,   1.35411148e-02,\n",
      "         2.83677377e-02,   7.27063893e-02,   1.22263015e-02,\n",
      "         1.02924886e-03,   3.90030258e-02,   1.32433604e-03]), 'param_criterion': masked_array(data = ['gini' 'gini' 'gini' 'gini' 'gini' 'gini' 'gini' 'gini' 'gini' 'gini'\n",
      " 'gini' 'gini' 'gini' 'gini' 'gini' 'gini' 'gini' 'gini' 'gini' 'gini'\n",
      " 'gini' 'gini' 'gini' 'gini' 'gini' 'gini' 'gini' 'gini' 'gini' 'gini'\n",
      " 'gini' 'gini' 'gini' 'gini' 'gini' 'gini' 'gini' 'gini' 'gini' 'gini'\n",
      " 'gini' 'gini' 'gini' 'gini' 'gini' 'gini' 'gini' 'gini' 'gini' 'gini'\n",
      " 'gini' 'gini' 'gini' 'gini' 'gini' 'gini' 'gini' 'gini' 'gini' 'gini'\n",
      " 'gini' 'gini' 'gini' 'gini' 'gini' 'gini' 'gini' 'gini' 'gini' 'gini'\n",
      " 'gini' 'gini' 'gini' 'gini' 'gini' 'entropy' 'entropy' 'entropy' 'entropy'\n",
      " 'entropy' 'entropy' 'entropy' 'entropy' 'entropy' 'entropy' 'entropy'\n",
      " 'entropy' 'entropy' 'entropy' 'entropy' 'entropy' 'entropy' 'entropy'\n",
      " 'entropy' 'entropy' 'entropy' 'entropy' 'entropy' 'entropy' 'entropy'\n",
      " 'entropy' 'entropy' 'entropy' 'entropy' 'entropy' 'entropy' 'entropy'\n",
      " 'entropy' 'entropy' 'entropy' 'entropy' 'entropy' 'entropy' 'entropy'\n",
      " 'entropy' 'entropy' 'entropy' 'entropy' 'entropy' 'entropy' 'entropy'\n",
      " 'entropy' 'entropy' 'entropy' 'entropy' 'entropy' 'entropy' 'entropy'\n",
      " 'entropy' 'entropy' 'entropy' 'entropy' 'entropy' 'entropy' 'entropy'\n",
      " 'entropy' 'entropy' 'entropy' 'entropy' 'entropy' 'entropy' 'entropy'\n",
      " 'entropy' 'entropy' 'entropy' 'entropy' 'entropy' 'entropy' 'entropy'\n",
      " 'entropy'],\n",
      "             mask = [False False False False False False False False False False False False\n",
      " False False False False False False False False False False False False\n",
      " False False False False False False False False False False False False\n",
      " False False False False False False False False False False False False\n",
      " False False False False False False False False False False False False\n",
      " False False False False False False False False False False False False\n",
      " False False False False False False False False False False False False\n",
      " False False False False False False False False False False False False\n",
      " False False False False False False False False False False False False\n",
      " False False False False False False False False False False False False\n",
      " False False False False False False False False False False False False\n",
      " False False False False False False False False False False False False\n",
      " False False False False False False],\n",
      "       fill_value = ?)\n",
      ", 'param_min_samples_leaf': masked_array(data = [1 1 1 1 1 1 1 1 1 1 1 1 1 1 1 1 1 1 1 1 1 1 1 1 1 5 5 5 5 5 5 5 5 5 5 5 5\n",
      " 5 5 5 5 5 5 5 5 5 5 5 5 5 10 10 10 10 10 10 10 10 10 10 10 10 10 10 10 10\n",
      " 10 10 10 10 10 10 10 10 10 1 1 1 1 1 1 1 1 1 1 1 1 1 1 1 1 1 1 1 1 1 1 1 1\n",
      " 1 5 5 5 5 5 5 5 5 5 5 5 5 5 5 5 5 5 5 5 5 5 5 5 5 5 10 10 10 10 10 10 10\n",
      " 10 10 10 10 10 10 10 10 10 10 10 10 10 10 10 10 10 10],\n",
      "             mask = [False False False False False False False False False False False False\n",
      " False False False False False False False False False False False False\n",
      " False False False False False False False False False False False False\n",
      " False False False False False False False False False False False False\n",
      " False False False False False False False False False False False False\n",
      " False False False False False False False False False False False False\n",
      " False False False False False False False False False False False False\n",
      " False False False False False False False False False False False False\n",
      " False False False False False False False False False False False False\n",
      " False False False False False False False False False False False False\n",
      " False False False False False False False False False False False False\n",
      " False False False False False False False False False False False False\n",
      " False False False False False False],\n",
      "       fill_value = ?)\n",
      ", 'param_min_samples_split': masked_array(data = [2 2 2 2 2 4 4 4 4 4 10 10 10 10 10 12 12 12 12 12 16 16 16 16 16 2 2 2 2 2\n",
      " 4 4 4 4 4 10 10 10 10 10 12 12 12 12 12 16 16 16 16 16 2 2 2 2 2 4 4 4 4 4\n",
      " 10 10 10 10 10 12 12 12 12 12 16 16 16 16 16 2 2 2 2 2 4 4 4 4 4 10 10 10\n",
      " 10 10 12 12 12 12 12 16 16 16 16 16 2 2 2 2 2 4 4 4 4 4 10 10 10 10 10 12\n",
      " 12 12 12 12 16 16 16 16 16 2 2 2 2 2 4 4 4 4 4 10 10 10 10 10 12 12 12 12\n",
      " 12 16 16 16 16 16],\n",
      "             mask = [False False False False False False False False False False False False\n",
      " False False False False False False False False False False False False\n",
      " False False False False False False False False False False False False\n",
      " False False False False False False False False False False False False\n",
      " False False False False False False False False False False False False\n",
      " False False False False False False False False False False False False\n",
      " False False False False False False False False False False False False\n",
      " False False False False False False False False False False False False\n",
      " False False False False False False False False False False False False\n",
      " False False False False False False False False False False False False\n",
      " False False False False False False False False False False False False\n",
      " False False False False False False False False False False False False\n",
      " False False False False False False],\n",
      "       fill_value = ?)\n",
      ", 'param_n_estimators': masked_array(data = [50 100 400 700 1000 50 100 400 700 1000 50 100 400 700 1000 50 100 400 700\n",
      " 1000 50 100 400 700 1000 50 100 400 700 1000 50 100 400 700 1000 50 100\n",
      " 400 700 1000 50 100 400 700 1000 50 100 400 700 1000 50 100 400 700 1000\n",
      " 50 100 400 700 1000 50 100 400 700 1000 50 100 400 700 1000 50 100 400 700\n",
      " 1000 50 100 400 700 1000 50 100 400 700 1000 50 100 400 700 1000 50 100\n",
      " 400 700 1000 50 100 400 700 1000 50 100 400 700 1000 50 100 400 700 1000\n",
      " 50 100 400 700 1000 50 100 400 700 1000 50 100 400 700 1000 50 100 400 700\n",
      " 1000 50 100 400 700 1000 50 100 400 700 1000 50 100 400 700 1000 50 100\n",
      " 400 700 1000],\n",
      "             mask = [False False False False False False False False False False False False\n",
      " False False False False False False False False False False False False\n",
      " False False False False False False False False False False False False\n",
      " False False False False False False False False False False False False\n",
      " False False False False False False False False False False False False\n",
      " False False False False False False False False False False False False\n",
      " False False False False False False False False False False False False\n",
      " False False False False False False False False False False False False\n",
      " False False False False False False False False False False False False\n",
      " False False False False False False False False False False False False\n",
      " False False False False False False False False False False False False\n",
      " False False False False False False False False False False False False\n",
      " False False False False False False],\n",
      "       fill_value = ?)\n",
      ", 'params': ({'criterion': 'gini', 'min_samples_leaf': 1, 'min_samples_split': 2, 'n_estimators': 50}, {'criterion': 'gini', 'min_samples_leaf': 1, 'min_samples_split': 2, 'n_estimators': 100}, {'criterion': 'gini', 'min_samples_leaf': 1, 'min_samples_split': 2, 'n_estimators': 400}, {'criterion': 'gini', 'min_samples_leaf': 1, 'min_samples_split': 2, 'n_estimators': 700}, {'criterion': 'gini', 'min_samples_leaf': 1, 'min_samples_split': 2, 'n_estimators': 1000}, {'criterion': 'gini', 'min_samples_leaf': 1, 'min_samples_split': 4, 'n_estimators': 50}, {'criterion': 'gini', 'min_samples_leaf': 1, 'min_samples_split': 4, 'n_estimators': 100}, {'criterion': 'gini', 'min_samples_leaf': 1, 'min_samples_split': 4, 'n_estimators': 400}, {'criterion': 'gini', 'min_samples_leaf': 1, 'min_samples_split': 4, 'n_estimators': 700}, {'criterion': 'gini', 'min_samples_leaf': 1, 'min_samples_split': 4, 'n_estimators': 1000}, {'criterion': 'gini', 'min_samples_leaf': 1, 'min_samples_split': 10, 'n_estimators': 50}, {'criterion': 'gini', 'min_samples_leaf': 1, 'min_samples_split': 10, 'n_estimators': 100}, {'criterion': 'gini', 'min_samples_leaf': 1, 'min_samples_split': 10, 'n_estimators': 400}, {'criterion': 'gini', 'min_samples_leaf': 1, 'min_samples_split': 10, 'n_estimators': 700}, {'criterion': 'gini', 'min_samples_leaf': 1, 'min_samples_split': 10, 'n_estimators': 1000}, {'criterion': 'gini', 'min_samples_leaf': 1, 'min_samples_split': 12, 'n_estimators': 50}, {'criterion': 'gini', 'min_samples_leaf': 1, 'min_samples_split': 12, 'n_estimators': 100}, {'criterion': 'gini', 'min_samples_leaf': 1, 'min_samples_split': 12, 'n_estimators': 400}, {'criterion': 'gini', 'min_samples_leaf': 1, 'min_samples_split': 12, 'n_estimators': 700}, {'criterion': 'gini', 'min_samples_leaf': 1, 'min_samples_split': 12, 'n_estimators': 1000}, {'criterion': 'gini', 'min_samples_leaf': 1, 'min_samples_split': 16, 'n_estimators': 50}, {'criterion': 'gini', 'min_samples_leaf': 1, 'min_samples_split': 16, 'n_estimators': 100}, {'criterion': 'gini', 'min_samples_leaf': 1, 'min_samples_split': 16, 'n_estimators': 400}, {'criterion': 'gini', 'min_samples_leaf': 1, 'min_samples_split': 16, 'n_estimators': 700}, {'criterion': 'gini', 'min_samples_leaf': 1, 'min_samples_split': 16, 'n_estimators': 1000}, {'criterion': 'gini', 'min_samples_leaf': 5, 'min_samples_split': 2, 'n_estimators': 50}, {'criterion': 'gini', 'min_samples_leaf': 5, 'min_samples_split': 2, 'n_estimators': 100}, {'criterion': 'gini', 'min_samples_leaf': 5, 'min_samples_split': 2, 'n_estimators': 400}, {'criterion': 'gini', 'min_samples_leaf': 5, 'min_samples_split': 2, 'n_estimators': 700}, {'criterion': 'gini', 'min_samples_leaf': 5, 'min_samples_split': 2, 'n_estimators': 1000}, {'criterion': 'gini', 'min_samples_leaf': 5, 'min_samples_split': 4, 'n_estimators': 50}, {'criterion': 'gini', 'min_samples_leaf': 5, 'min_samples_split': 4, 'n_estimators': 100}, {'criterion': 'gini', 'min_samples_leaf': 5, 'min_samples_split': 4, 'n_estimators': 400}, {'criterion': 'gini', 'min_samples_leaf': 5, 'min_samples_split': 4, 'n_estimators': 700}, {'criterion': 'gini', 'min_samples_leaf': 5, 'min_samples_split': 4, 'n_estimators': 1000}, {'criterion': 'gini', 'min_samples_leaf': 5, 'min_samples_split': 10, 'n_estimators': 50}, {'criterion': 'gini', 'min_samples_leaf': 5, 'min_samples_split': 10, 'n_estimators': 100}, {'criterion': 'gini', 'min_samples_leaf': 5, 'min_samples_split': 10, 'n_estimators': 400}, {'criterion': 'gini', 'min_samples_leaf': 5, 'min_samples_split': 10, 'n_estimators': 700}, {'criterion': 'gini', 'min_samples_leaf': 5, 'min_samples_split': 10, 'n_estimators': 1000}, {'criterion': 'gini', 'min_samples_leaf': 5, 'min_samples_split': 12, 'n_estimators': 50}, {'criterion': 'gini', 'min_samples_leaf': 5, 'min_samples_split': 12, 'n_estimators': 100}, {'criterion': 'gini', 'min_samples_leaf': 5, 'min_samples_split': 12, 'n_estimators': 400}, {'criterion': 'gini', 'min_samples_leaf': 5, 'min_samples_split': 12, 'n_estimators': 700}, {'criterion': 'gini', 'min_samples_leaf': 5, 'min_samples_split': 12, 'n_estimators': 1000}, {'criterion': 'gini', 'min_samples_leaf': 5, 'min_samples_split': 16, 'n_estimators': 50}, {'criterion': 'gini', 'min_samples_leaf': 5, 'min_samples_split': 16, 'n_estimators': 100}, {'criterion': 'gini', 'min_samples_leaf': 5, 'min_samples_split': 16, 'n_estimators': 400}, {'criterion': 'gini', 'min_samples_leaf': 5, 'min_samples_split': 16, 'n_estimators': 700}, {'criterion': 'gini', 'min_samples_leaf': 5, 'min_samples_split': 16, 'n_estimators': 1000}, {'criterion': 'gini', 'min_samples_leaf': 10, 'min_samples_split': 2, 'n_estimators': 50}, {'criterion': 'gini', 'min_samples_leaf': 10, 'min_samples_split': 2, 'n_estimators': 100}, {'criterion': 'gini', 'min_samples_leaf': 10, 'min_samples_split': 2, 'n_estimators': 400}, {'criterion': 'gini', 'min_samples_leaf': 10, 'min_samples_split': 2, 'n_estimators': 700}, {'criterion': 'gini', 'min_samples_leaf': 10, 'min_samples_split': 2, 'n_estimators': 1000}, {'criterion': 'gini', 'min_samples_leaf': 10, 'min_samples_split': 4, 'n_estimators': 50}, {'criterion': 'gini', 'min_samples_leaf': 10, 'min_samples_split': 4, 'n_estimators': 100}, {'criterion': 'gini', 'min_samples_leaf': 10, 'min_samples_split': 4, 'n_estimators': 400}, {'criterion': 'gini', 'min_samples_leaf': 10, 'min_samples_split': 4, 'n_estimators': 700}, {'criterion': 'gini', 'min_samples_leaf': 10, 'min_samples_split': 4, 'n_estimators': 1000}, {'criterion': 'gini', 'min_samples_leaf': 10, 'min_samples_split': 10, 'n_estimators': 50}, {'criterion': 'gini', 'min_samples_leaf': 10, 'min_samples_split': 10, 'n_estimators': 100}, {'criterion': 'gini', 'min_samples_leaf': 10, 'min_samples_split': 10, 'n_estimators': 400}, {'criterion': 'gini', 'min_samples_leaf': 10, 'min_samples_split': 10, 'n_estimators': 700}, {'criterion': 'gini', 'min_samples_leaf': 10, 'min_samples_split': 10, 'n_estimators': 1000}, {'criterion': 'gini', 'min_samples_leaf': 10, 'min_samples_split': 12, 'n_estimators': 50}, {'criterion': 'gini', 'min_samples_leaf': 10, 'min_samples_split': 12, 'n_estimators': 100}, {'criterion': 'gini', 'min_samples_leaf': 10, 'min_samples_split': 12, 'n_estimators': 400}, {'criterion': 'gini', 'min_samples_leaf': 10, 'min_samples_split': 12, 'n_estimators': 700}, {'criterion': 'gini', 'min_samples_leaf': 10, 'min_samples_split': 12, 'n_estimators': 1000}, {'criterion': 'gini', 'min_samples_leaf': 10, 'min_samples_split': 16, 'n_estimators': 50}, {'criterion': 'gini', 'min_samples_leaf': 10, 'min_samples_split': 16, 'n_estimators': 100}, {'criterion': 'gini', 'min_samples_leaf': 10, 'min_samples_split': 16, 'n_estimators': 400}, {'criterion': 'gini', 'min_samples_leaf': 10, 'min_samples_split': 16, 'n_estimators': 700}, {'criterion': 'gini', 'min_samples_leaf': 10, 'min_samples_split': 16, 'n_estimators': 1000}, {'criterion': 'entropy', 'min_samples_leaf': 1, 'min_samples_split': 2, 'n_estimators': 50}, {'criterion': 'entropy', 'min_samples_leaf': 1, 'min_samples_split': 2, 'n_estimators': 100}, {'criterion': 'entropy', 'min_samples_leaf': 1, 'min_samples_split': 2, 'n_estimators': 400}, {'criterion': 'entropy', 'min_samples_leaf': 1, 'min_samples_split': 2, 'n_estimators': 700}, {'criterion': 'entropy', 'min_samples_leaf': 1, 'min_samples_split': 2, 'n_estimators': 1000}, {'criterion': 'entropy', 'min_samples_leaf': 1, 'min_samples_split': 4, 'n_estimators': 50}, {'criterion': 'entropy', 'min_samples_leaf': 1, 'min_samples_split': 4, 'n_estimators': 100}, {'criterion': 'entropy', 'min_samples_leaf': 1, 'min_samples_split': 4, 'n_estimators': 400}, {'criterion': 'entropy', 'min_samples_leaf': 1, 'min_samples_split': 4, 'n_estimators': 700}, {'criterion': 'entropy', 'min_samples_leaf': 1, 'min_samples_split': 4, 'n_estimators': 1000}, {'criterion': 'entropy', 'min_samples_leaf': 1, 'min_samples_split': 10, 'n_estimators': 50}, {'criterion': 'entropy', 'min_samples_leaf': 1, 'min_samples_split': 10, 'n_estimators': 100}, {'criterion': 'entropy', 'min_samples_leaf': 1, 'min_samples_split': 10, 'n_estimators': 400}, {'criterion': 'entropy', 'min_samples_leaf': 1, 'min_samples_split': 10, 'n_estimators': 700}, {'criterion': 'entropy', 'min_samples_leaf': 1, 'min_samples_split': 10, 'n_estimators': 1000}, {'criterion': 'entropy', 'min_samples_leaf': 1, 'min_samples_split': 12, 'n_estimators': 50}, {'criterion': 'entropy', 'min_samples_leaf': 1, 'min_samples_split': 12, 'n_estimators': 100}, {'criterion': 'entropy', 'min_samples_leaf': 1, 'min_samples_split': 12, 'n_estimators': 400}, {'criterion': 'entropy', 'min_samples_leaf': 1, 'min_samples_split': 12, 'n_estimators': 700}, {'criterion': 'entropy', 'min_samples_leaf': 1, 'min_samples_split': 12, 'n_estimators': 1000}, {'criterion': 'entropy', 'min_samples_leaf': 1, 'min_samples_split': 16, 'n_estimators': 50}, {'criterion': 'entropy', 'min_samples_leaf': 1, 'min_samples_split': 16, 'n_estimators': 100}, {'criterion': 'entropy', 'min_samples_leaf': 1, 'min_samples_split': 16, 'n_estimators': 400}, {'criterion': 'entropy', 'min_samples_leaf': 1, 'min_samples_split': 16, 'n_estimators': 700}, {'criterion': 'entropy', 'min_samples_leaf': 1, 'min_samples_split': 16, 'n_estimators': 1000}, {'criterion': 'entropy', 'min_samples_leaf': 5, 'min_samples_split': 2, 'n_estimators': 50}, {'criterion': 'entropy', 'min_samples_leaf': 5, 'min_samples_split': 2, 'n_estimators': 100}, {'criterion': 'entropy', 'min_samples_leaf': 5, 'min_samples_split': 2, 'n_estimators': 400}, {'criterion': 'entropy', 'min_samples_leaf': 5, 'min_samples_split': 2, 'n_estimators': 700}, {'criterion': 'entropy', 'min_samples_leaf': 5, 'min_samples_split': 2, 'n_estimators': 1000}, {'criterion': 'entropy', 'min_samples_leaf': 5, 'min_samples_split': 4, 'n_estimators': 50}, {'criterion': 'entropy', 'min_samples_leaf': 5, 'min_samples_split': 4, 'n_estimators': 100}, {'criterion': 'entropy', 'min_samples_leaf': 5, 'min_samples_split': 4, 'n_estimators': 400}, {'criterion': 'entropy', 'min_samples_leaf': 5, 'min_samples_split': 4, 'n_estimators': 700}, {'criterion': 'entropy', 'min_samples_leaf': 5, 'min_samples_split': 4, 'n_estimators': 1000}, {'criterion': 'entropy', 'min_samples_leaf': 5, 'min_samples_split': 10, 'n_estimators': 50}, {'criterion': 'entropy', 'min_samples_leaf': 5, 'min_samples_split': 10, 'n_estimators': 100}, {'criterion': 'entropy', 'min_samples_leaf': 5, 'min_samples_split': 10, 'n_estimators': 400}, {'criterion': 'entropy', 'min_samples_leaf': 5, 'min_samples_split': 10, 'n_estimators': 700}, {'criterion': 'entropy', 'min_samples_leaf': 5, 'min_samples_split': 10, 'n_estimators': 1000}, {'criterion': 'entropy', 'min_samples_leaf': 5, 'min_samples_split': 12, 'n_estimators': 50}, {'criterion': 'entropy', 'min_samples_leaf': 5, 'min_samples_split': 12, 'n_estimators': 100}, {'criterion': 'entropy', 'min_samples_leaf': 5, 'min_samples_split': 12, 'n_estimators': 400}, {'criterion': 'entropy', 'min_samples_leaf': 5, 'min_samples_split': 12, 'n_estimators': 700}, {'criterion': 'entropy', 'min_samples_leaf': 5, 'min_samples_split': 12, 'n_estimators': 1000}, {'criterion': 'entropy', 'min_samples_leaf': 5, 'min_samples_split': 16, 'n_estimators': 50}, {'criterion': 'entropy', 'min_samples_leaf': 5, 'min_samples_split': 16, 'n_estimators': 100}, {'criterion': 'entropy', 'min_samples_leaf': 5, 'min_samples_split': 16, 'n_estimators': 400}, {'criterion': 'entropy', 'min_samples_leaf': 5, 'min_samples_split': 16, 'n_estimators': 700}, {'criterion': 'entropy', 'min_samples_leaf': 5, 'min_samples_split': 16, 'n_estimators': 1000}, {'criterion': 'entropy', 'min_samples_leaf': 10, 'min_samples_split': 2, 'n_estimators': 50}, {'criterion': 'entropy', 'min_samples_leaf': 10, 'min_samples_split': 2, 'n_estimators': 100}, {'criterion': 'entropy', 'min_samples_leaf': 10, 'min_samples_split': 2, 'n_estimators': 400}, {'criterion': 'entropy', 'min_samples_leaf': 10, 'min_samples_split': 2, 'n_estimators': 700}, {'criterion': 'entropy', 'min_samples_leaf': 10, 'min_samples_split': 2, 'n_estimators': 1000}, {'criterion': 'entropy', 'min_samples_leaf': 10, 'min_samples_split': 4, 'n_estimators': 50}, {'criterion': 'entropy', 'min_samples_leaf': 10, 'min_samples_split': 4, 'n_estimators': 100}, {'criterion': 'entropy', 'min_samples_leaf': 10, 'min_samples_split': 4, 'n_estimators': 400}, {'criterion': 'entropy', 'min_samples_leaf': 10, 'min_samples_split': 4, 'n_estimators': 700}, {'criterion': 'entropy', 'min_samples_leaf': 10, 'min_samples_split': 4, 'n_estimators': 1000}, {'criterion': 'entropy', 'min_samples_leaf': 10, 'min_samples_split': 10, 'n_estimators': 50}, {'criterion': 'entropy', 'min_samples_leaf': 10, 'min_samples_split': 10, 'n_estimators': 100}, {'criterion': 'entropy', 'min_samples_leaf': 10, 'min_samples_split': 10, 'n_estimators': 400}, {'criterion': 'entropy', 'min_samples_leaf': 10, 'min_samples_split': 10, 'n_estimators': 700}, {'criterion': 'entropy', 'min_samples_leaf': 10, 'min_samples_split': 10, 'n_estimators': 1000}, {'criterion': 'entropy', 'min_samples_leaf': 10, 'min_samples_split': 12, 'n_estimators': 50}, {'criterion': 'entropy', 'min_samples_leaf': 10, 'min_samples_split': 12, 'n_estimators': 100}, {'criterion': 'entropy', 'min_samples_leaf': 10, 'min_samples_split': 12, 'n_estimators': 400}, {'criterion': 'entropy', 'min_samples_leaf': 10, 'min_samples_split': 12, 'n_estimators': 700}, {'criterion': 'entropy', 'min_samples_leaf': 10, 'min_samples_split': 12, 'n_estimators': 1000}, {'criterion': 'entropy', 'min_samples_leaf': 10, 'min_samples_split': 16, 'n_estimators': 50}, {'criterion': 'entropy', 'min_samples_leaf': 10, 'min_samples_split': 16, 'n_estimators': 100}, {'criterion': 'entropy', 'min_samples_leaf': 10, 'min_samples_split': 16, 'n_estimators': 400}, {'criterion': 'entropy', 'min_samples_leaf': 10, 'min_samples_split': 16, 'n_estimators': 700}, {'criterion': 'entropy', 'min_samples_leaf': 10, 'min_samples_split': 16, 'n_estimators': 1000})}\n"
     ]
    }
   ],
   "source": [
    "from sklearn.model_selection import GridSearchCV\n",
    "rf = RandomForestClassifier(max_features='auto', oob_score=True, random_state=1, n_jobs=-1)\n",
    "param_grid = { \"criterion\" : [\"gini\", \"entropy\"], \"min_samples_leaf\" : [1, 5, 10], \"min_samples_split\" : [2, 4, 10, 12, 16], \"n_estimators\": [50, 100, 400, 700, 1000]}\n",
    "gs = GridSearchCV(estimator=rf, param_grid=param_grid, scoring='accuracy', cv=3, n_jobs=-1)\n",
    "gs = gs.fit(X_train, y_train)\n",
    "print(gs.best_score_)\n",
    "print(gs.best_params_)\n",
    "#print(gs.cv_results_)"
   ]
  },
  {
   "cell_type": "code",
   "execution_count": 106,
   "metadata": {},
   "outputs": [
    {
     "data": {
      "text/plain": [
       "0.89113355780022452"
      ]
     },
     "execution_count": 106,
     "metadata": {},
     "output_type": "execute_result"
    }
   ],
   "source": [
    "random_forest = RandomForestClassifier(criterion='gini', \n",
    "                             n_estimators=1000,\n",
    "                             min_samples_split=10,\n",
    "                             min_samples_leaf=1,\n",
    "                             max_features='auto',\n",
    "                             oob_score=True,\n",
    "                             random_state=1,\n",
    "                             n_jobs=-1)\n",
    "random_forest.fit(X_train,y_train)\n",
    "pred = random_forest.predict(X_test)\n",
    "random_forest.score(X_train,y_train)"
   ]
  },
  {
   "cell_type": "code",
   "execution_count": 109,
   "metadata": {},
   "outputs": [
    {
     "data": {
      "text/html": [
       "<div>\n",
       "<style>\n",
       "    .dataframe thead tr:only-child th {\n",
       "        text-align: right;\n",
       "    }\n",
       "\n",
       "    .dataframe thead th {\n",
       "        text-align: left;\n",
       "    }\n",
       "\n",
       "    .dataframe tbody tr th {\n",
       "        vertical-align: top;\n",
       "    }\n",
       "</style>\n",
       "<table border=\"1\" class=\"dataframe\">\n",
       "  <thead>\n",
       "    <tr style=\"text-align: right;\">\n",
       "      <th></th>\n",
       "      <th>features</th>\n",
       "      <th>importance</th>\n",
       "    </tr>\n",
       "  </thead>\n",
       "  <tbody>\n",
       "    <tr>\n",
       "      <th>7</th>\n",
       "      <td>Male</td>\n",
       "      <td>0.240227</td>\n",
       "    </tr>\n",
       "    <tr>\n",
       "      <th>0</th>\n",
       "      <td>Age</td>\n",
       "      <td>0.187141</td>\n",
       "    </tr>\n",
       "    <tr>\n",
       "      <th>1</th>\n",
       "      <td>Fare</td>\n",
       "      <td>0.186807</td>\n",
       "    </tr>\n",
       "    <tr>\n",
       "      <th>6</th>\n",
       "      <td>Female</td>\n",
       "      <td>0.154363</td>\n",
       "    </tr>\n",
       "    <tr>\n",
       "      <th>4</th>\n",
       "      <td>Class_3</td>\n",
       "      <td>0.081033</td>\n",
       "    </tr>\n",
       "    <tr>\n",
       "      <th>2</th>\n",
       "      <td>Class_1</td>\n",
       "      <td>0.042588</td>\n",
       "    </tr>\n",
       "    <tr>\n",
       "      <th>3</th>\n",
       "      <td>Class_2</td>\n",
       "      <td>0.030765</td>\n",
       "    </tr>\n",
       "    <tr>\n",
       "      <th>8</th>\n",
       "      <td>Family</td>\n",
       "      <td>0.021366</td>\n",
       "    </tr>\n",
       "    <tr>\n",
       "      <th>9</th>\n",
       "      <td>C</td>\n",
       "      <td>0.016521</td>\n",
       "    </tr>\n",
       "    <tr>\n",
       "      <th>5</th>\n",
       "      <td>Child</td>\n",
       "      <td>0.015827</td>\n",
       "    </tr>\n",
       "    <tr>\n",
       "      <th>11</th>\n",
       "      <td>S</td>\n",
       "      <td>0.015111</td>\n",
       "    </tr>\n",
       "    <tr>\n",
       "      <th>10</th>\n",
       "      <td>Q</td>\n",
       "      <td>0.008251</td>\n",
       "    </tr>\n",
       "  </tbody>\n",
       "</table>\n",
       "</div>"
      ],
      "text/plain": [
       "   features  importance\n",
       "7      Male    0.240227\n",
       "0       Age    0.187141\n",
       "1      Fare    0.186807\n",
       "6    Female    0.154363\n",
       "4   Class_3    0.081033\n",
       "2   Class_1    0.042588\n",
       "3   Class_2    0.030765\n",
       "8    Family    0.021366\n",
       "9         C    0.016521\n",
       "5     Child    0.015827\n",
       "11        S    0.015111\n",
       "10        Q    0.008251"
      ]
     },
     "execution_count": 109,
     "metadata": {},
     "output_type": "execute_result"
    }
   ],
   "source": [
    "pd.concat((pd.DataFrame(X_train.columns, columns = ['features']), \n",
    "           pd.DataFrame(random_forest.feature_importances_, columns = ['importance'])), \n",
    "          axis = 1).sort_values(by='importance', ascending = False)"
   ]
  },
  {
   "cell_type": "code",
   "execution_count": 110,
   "metadata": {},
   "outputs": [
    {
     "data": {
      "text/html": [
       "<div>\n",
       "<style>\n",
       "    .dataframe thead tr:only-child th {\n",
       "        text-align: right;\n",
       "    }\n",
       "\n",
       "    .dataframe thead th {\n",
       "        text-align: left;\n",
       "    }\n",
       "\n",
       "    .dataframe tbody tr th {\n",
       "        vertical-align: top;\n",
       "    }\n",
       "</style>\n",
       "<table border=\"1\" class=\"dataframe\">\n",
       "  <thead>\n",
       "    <tr style=\"text-align: right;\">\n",
       "      <th></th>\n",
       "      <th>Features</th>\n",
       "      <th>Coefficient Estimate</th>\n",
       "    </tr>\n",
       "  </thead>\n",
       "  <tbody>\n",
       "    <tr>\n",
       "      <th>0</th>\n",
       "      <td>Age</td>\n",
       "      <td>-0.277528</td>\n",
       "    </tr>\n",
       "    <tr>\n",
       "      <th>1</th>\n",
       "      <td>Fare</td>\n",
       "      <td>0.031028</td>\n",
       "    </tr>\n",
       "    <tr>\n",
       "      <th>2</th>\n",
       "      <td>Class_1</td>\n",
       "      <td>1.082805</td>\n",
       "    </tr>\n",
       "    <tr>\n",
       "      <th>3</th>\n",
       "      <td>Class_2</td>\n",
       "      <td>0.200254</td>\n",
       "    </tr>\n",
       "    <tr>\n",
       "      <th>4</th>\n",
       "      <td>Class_3</td>\n",
       "      <td>-1.034292</td>\n",
       "    </tr>\n",
       "    <tr>\n",
       "      <th>5</th>\n",
       "      <td>Child</td>\n",
       "      <td>0.440966</td>\n",
       "    </tr>\n",
       "    <tr>\n",
       "      <th>6</th>\n",
       "      <td>Female</td>\n",
       "      <td>1.354873</td>\n",
       "    </tr>\n",
       "    <tr>\n",
       "      <th>7</th>\n",
       "      <td>Male</td>\n",
       "      <td>-1.547071</td>\n",
       "    </tr>\n",
       "    <tr>\n",
       "      <th>8</th>\n",
       "      <td>Family</td>\n",
       "      <td>-0.236451</td>\n",
       "    </tr>\n",
       "    <tr>\n",
       "      <th>9</th>\n",
       "      <td>C</td>\n",
       "      <td>0.422355</td>\n",
       "    </tr>\n",
       "    <tr>\n",
       "      <th>10</th>\n",
       "      <td>Q</td>\n",
       "      <td>0.062091</td>\n",
       "    </tr>\n",
       "    <tr>\n",
       "      <th>11</th>\n",
       "      <td>S</td>\n",
       "      <td>-0.235678</td>\n",
       "    </tr>\n",
       "  </tbody>\n",
       "</table>\n",
       "</div>"
      ],
      "text/plain": [
       "   Features  Coefficient Estimate\n",
       "0       Age             -0.277528\n",
       "1      Fare              0.031028\n",
       "2   Class_1              1.082805\n",
       "3   Class_2              0.200254\n",
       "4   Class_3             -1.034292\n",
       "5     Child              0.440966\n",
       "6    Female              1.354873\n",
       "7      Male             -1.547071\n",
       "8    Family             -0.236451\n",
       "9         C              0.422355\n",
       "10        Q              0.062091\n",
       "11        S             -0.235678"
      ]
     },
     "execution_count": 110,
     "metadata": {},
     "output_type": "execute_result"
    }
   ],
   "source": [
    "coeff_df = pd.DataFrame(testSet.columns.delete(0))\n",
    "coeff_df.columns = ['Features']\n",
    "coeff_df[\"Coefficient Estimate\"] = pd.Series(logreg.coef_[0])\n",
    "coeff_df"
   ]
  },
  {
   "cell_type": "code",
   "execution_count": 111,
   "metadata": {},
   "outputs": [],
   "source": [
    "submission = pd.DataFrame({\n",
    "    'PassengerId':testSet['PassengerId'],\n",
    "    'Survived':pred\n",
    "})\n",
    "submission.to_csv('titanic.csv',index=False)"
   ]
  },
  {
   "cell_type": "code",
   "execution_count": null,
   "metadata": {
    "collapsed": true
   },
   "outputs": [],
   "source": []
  }
 ],
 "metadata": {
  "kernelspec": {
   "display_name": "Python 3",
   "language": "python",
   "name": "python3"
  },
  "language_info": {
   "codemirror_mode": {
    "name": "ipython",
    "version": 3
   },
   "file_extension": ".py",
   "mimetype": "text/x-python",
   "name": "python",
   "nbconvert_exporter": "python",
   "pygments_lexer": "ipython3",
   "version": "3.6.1"
  }
 },
 "nbformat": 4,
 "nbformat_minor": 2
}
