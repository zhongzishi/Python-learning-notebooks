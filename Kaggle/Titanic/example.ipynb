{
 "cells": [
  {
   "cell_type": "code",
   "execution_count": 1,
   "metadata": {
    "collapsed": true
   },
   "outputs": [],
   "source": [
    "import numpy as np\n",
    "import pandas as pd\n",
    "import matplotlib.pyplot as plt\n",
    "import seaborn as sns\n",
    "%matplotlib inline"
   ]
  },
  {
   "cell_type": "code",
   "execution_count": 4,
   "metadata": {
    "collapsed": true
   },
   "outputs": [],
   "source": [
    "train = pd.read_csv(r'train.csv')\n",
    "test = pd.read_csv(r'test.csv')"
   ]
  },
  {
   "cell_type": "code",
   "execution_count": 5,
   "metadata": {},
   "outputs": [],
   "source": [
    "def clean_data(titanic):#填充空数据 和 把string数据转成integer表示\n",
    "    titanic[\"Age\"] = titanic[\"Age\"].fillna(titanic[\"Age\"].median())\n",
    "    # child\n",
    "    titanic[\"child\"] = titanic[\"Age\"].apply(lambda x: 1 if x < 15 else 0)\n",
    "\n",
    "    # sex\n",
    "    titanic[\"sex\"] = titanic[\"Sex\"].apply(lambda x: 1 if x == \"male\" else 0)\n",
    "\n",
    "    titanic[\"Embarked\"] = titanic[\"Embarked\"].fillna(\"S\")\n",
    "    # embark\n",
    "    def getEmbark(Embarked):\n",
    "        if Embarked == \"S\":\n",
    "            return 1\n",
    "        elif Embarked == \"C\":\n",
    "            return 2\n",
    "        else:\n",
    "            return 3\n",
    "    titanic[\"embark\"] = titanic[\"Embarked\"].apply(getEmbark)\n",
    "\n",
    "    # familysize\n",
    "    titanic[\"fimalysize\"] = titanic[\"SibSp\"] + titanic[\"Parch\"] + 1\n",
    "\n",
    "    # cabin\n",
    "    def getCabin(cabin):\n",
    "        if cabin == \"N\":\n",
    "            return 0\n",
    "        else:\n",
    "            return 1\n",
    "    titanic[\"cabin\"] = titanic[\"Cabin\"].apply(getCabin)\n",
    "\n",
    "    # name\n",
    "    def getName(name):\n",
    "        if \"Mr\" in str(name):\n",
    "            return 1\n",
    "        elif \"Mrs\" in str(name):\n",
    "            return 2\n",
    "        else:\n",
    "            return 0\n",
    "    titanic[\"name\"] = titanic[\"Name\"].apply(getName)\n",
    "\n",
    "    titanic[\"Fare\"] = titanic[\"Fare\"].fillna(titanic[\"Fare\"].median())\n",
    "\n",
    "    return titanic\n",
    "# 对数据进行清洗\n",
    "train_data = clean_data(train)\n",
    "test_data = clean_data(test)"
   ]
  },
  {
   "cell_type": "code",
   "execution_count": 6,
   "metadata": {},
   "outputs": [
    {
     "name": "stderr",
     "output_type": "stream",
     "text": [
      "C:\\Users\\Zishi\\Anaconda3\\lib\\json\\encoder.py:199: DeprecationWarning: Interpreting naive datetime as local 2017-08-23 21:54:01.447495. Please add timezone info to timestamps.\n",
      "  chunks = self.iterencode(o, _one_shot=True)\n"
     ]
    }
   ],
   "source": [
    "from xgboost import XGBClassifier\n",
    "from sklearn.model_selection import KFold,GridSearchCV\n",
    "from sklearn.metrics import accuracy_score"
   ]
  },
  {
   "cell_type": "code",
   "execution_count": 7,
   "metadata": {},
   "outputs": [
    {
     "name": "stderr",
     "output_type": "stream",
     "text": [
      "C:\\Users\\Zishi\\Anaconda3\\lib\\site-packages\\sklearn\\model_selection\\_search.py:667: DeprecationWarning: The grid_scores_ attribute was deprecated in version 0.18 in favor of the more elaborate cv_results_ attribute. The grid_scores_ attribute will not be available from 0.20\n",
      "  DeprecationWarning)\n"
     ]
    },
    {
     "data": {
      "text/plain": [
       "([mean: 0.81594, std: 0.00673, params: {'max_depth': 2, 'n_estimators': 30},\n",
       "  mean: 0.81930, std: 0.00916, params: {'max_depth': 2, 'n_estimators': 32},\n",
       "  mean: 0.82267, std: 0.00978, params: {'max_depth': 2, 'n_estimators': 34},\n",
       "  mean: 0.82043, std: 0.01423, params: {'max_depth': 2, 'n_estimators': 36},\n",
       "  mean: 0.82267, std: 0.01585, params: {'max_depth': 2, 'n_estimators': 38},\n",
       "  mean: 0.82604, std: 0.01800, params: {'max_depth': 2, 'n_estimators': 40},\n",
       "  mean: 0.82604, std: 0.01800, params: {'max_depth': 2, 'n_estimators': 42},\n",
       "  mean: 0.82379, std: 0.01629, params: {'max_depth': 2, 'n_estimators': 44},\n",
       "  mean: 0.82379, std: 0.01629, params: {'max_depth': 2, 'n_estimators': 46},\n",
       "  mean: 0.82267, std: 0.01545, params: {'max_depth': 2, 'n_estimators': 48},\n",
       "  mean: 0.82043, std: 0.01642, params: {'max_depth': 3, 'n_estimators': 30},\n",
       "  mean: 0.81930, std: 0.01690, params: {'max_depth': 3, 'n_estimators': 32},\n",
       "  mean: 0.81818, std: 0.01863, params: {'max_depth': 3, 'n_estimators': 34},\n",
       "  mean: 0.81930, std: 0.01827, params: {'max_depth': 3, 'n_estimators': 36},\n",
       "  mean: 0.81706, std: 0.01759, params: {'max_depth': 3, 'n_estimators': 38},\n",
       "  mean: 0.81818, std: 0.01692, params: {'max_depth': 3, 'n_estimators': 40},\n",
       "  mean: 0.81706, std: 0.01759, params: {'max_depth': 3, 'n_estimators': 42},\n",
       "  mean: 0.81706, std: 0.01759, params: {'max_depth': 3, 'n_estimators': 44},\n",
       "  mean: 0.81257, std: 0.02241, params: {'max_depth': 3, 'n_estimators': 46},\n",
       "  mean: 0.81369, std: 0.02371, params: {'max_depth': 3, 'n_estimators': 48},\n",
       "  mean: 0.81257, std: 0.02156, params: {'max_depth': 4, 'n_estimators': 30},\n",
       "  mean: 0.81369, std: 0.02117, params: {'max_depth': 4, 'n_estimators': 32},\n",
       "  mean: 0.81594, std: 0.02391, params: {'max_depth': 4, 'n_estimators': 34},\n",
       "  mean: 0.81481, std: 0.02273, params: {'max_depth': 4, 'n_estimators': 36},\n",
       "  mean: 0.82267, std: 0.03085, params: {'max_depth': 4, 'n_estimators': 38},\n",
       "  mean: 0.82155, std: 0.03203, params: {'max_depth': 4, 'n_estimators': 40},\n",
       "  mean: 0.82155, std: 0.03203, params: {'max_depth': 4, 'n_estimators': 42},\n",
       "  mean: 0.82155, std: 0.03203, params: {'max_depth': 4, 'n_estimators': 44},\n",
       "  mean: 0.82155, std: 0.03159, params: {'max_depth': 4, 'n_estimators': 46},\n",
       "  mean: 0.82043, std: 0.03246, params: {'max_depth': 4, 'n_estimators': 48},\n",
       "  mean: 0.82828, std: 0.03210, params: {'max_depth': 5, 'n_estimators': 30},\n",
       "  mean: 0.82716, std: 0.03130, params: {'max_depth': 5, 'n_estimators': 32},\n",
       "  mean: 0.82716, std: 0.03130, params: {'max_depth': 5, 'n_estimators': 34},\n",
       "  mean: 0.82828, std: 0.03310, params: {'max_depth': 5, 'n_estimators': 36},\n",
       "  mean: 0.82941, std: 0.03192, params: {'max_depth': 5, 'n_estimators': 38},\n",
       "  mean: 0.83053, std: 0.03091, params: {'max_depth': 5, 'n_estimators': 40},\n",
       "  mean: 0.83053, std: 0.03091, params: {'max_depth': 5, 'n_estimators': 42},\n",
       "  mean: 0.83053, std: 0.03091, params: {'max_depth': 5, 'n_estimators': 44},\n",
       "  mean: 0.83053, std: 0.03171, params: {'max_depth': 5, 'n_estimators': 46},\n",
       "  mean: 0.82828, std: 0.03416, params: {'max_depth': 5, 'n_estimators': 48},\n",
       "  mean: 0.83053, std: 0.02797, params: {'max_depth': 6, 'n_estimators': 30},\n",
       "  mean: 0.83165, std: 0.02896, params: {'max_depth': 6, 'n_estimators': 32},\n",
       "  mean: 0.83165, std: 0.03122, params: {'max_depth': 6, 'n_estimators': 34},\n",
       "  mean: 0.83053, std: 0.03207, params: {'max_depth': 6, 'n_estimators': 36},\n",
       "  mean: 0.82716, std: 0.03176, params: {'max_depth': 6, 'n_estimators': 38},\n",
       "  mean: 0.82828, std: 0.03275, params: {'max_depth': 6, 'n_estimators': 40},\n",
       "  mean: 0.82828, std: 0.03275, params: {'max_depth': 6, 'n_estimators': 42},\n",
       "  mean: 0.82828, std: 0.03495, params: {'max_depth': 6, 'n_estimators': 44},\n",
       "  mean: 0.82828, std: 0.03459, params: {'max_depth': 6, 'n_estimators': 46},\n",
       "  mean: 0.82828, std: 0.03685, params: {'max_depth': 6, 'n_estimators': 48}],\n",
       " {'max_depth': 6, 'n_estimators': 32},\n",
       " 0.83164983164983164)"
      ]
     },
     "execution_count": 7,
     "metadata": {},
     "output_type": "execute_result"
    }
   ],
   "source": [
    "features = [\"Pclass\", \"sex\", \"child\", \"fimalysize\", \"Fare\", \"embark\", \"cabin\"]\n",
    "clf =XGBClassifier(learning_rate=0.1, max_depth=2, \n",
    "silent=True, objective='binary:logistic')\n",
    "\n",
    "param_test = {\n",
    "    'n_estimators': range(30, 50, 2),\n",
    "    'max_depth': range(2, 7, 1)\n",
    "}\n",
    "grid_search = GridSearchCV(estimator = clf, param_grid = param_test, \n",
    "scoring='accuracy', cv=5)\n",
    "grid_search.fit(train[features], train[\"Survived\"])\n",
    "grid_search.grid_scores_, grid_search.best_params_, grid_search.best_score_"
   ]
  },
  {
   "cell_type": "code",
   "execution_count": 8,
   "metadata": {},
   "outputs": [
    {
     "data": {
      "image/png": "[encoded data removed]",
      "text/plain": [
       "<matplotlib.figure.Figure at 0x174ed13ff28>"
      ]
     },
     "metadata": {},
     "output_type": "display_data"
    }
   ],
   "source": [
    "from xgboost import plot_importance\n",
    "bst = XGBClassifier(learning_rate=0.1, max_depth=6, n_estimators = 32,\n",
    "silent=True, objective='binary:logistic')\n",
    "bst.fit(train[features],train[\"Survived\"])\n",
    "\n",
    "plot_importance(bst)\n",
    "plt.show()"
   ]
  },
  {
   "cell_type": "code",
   "execution_count": 11,
   "metadata": {},
   "outputs": [],
   "source": [
    "pred = bst.predict(test[features])\n",
    "\n",
    "submission = pd.DataFrame({\n",
    "    'PassengerId':test['PassengerId'],\n",
    "    'Survived':pred\n",
    "})\n",
    "submission.to_csv('titanicbst.csv',index=False)"
   ]
  },
  {
   "cell_type": "code",
   "execution_count": null,
   "metadata": {
    "collapsed": true
   },
   "outputs": [],
   "source": []
  }
 ],
 "metadata": {
  "kernelspec": {
   "display_name": "Python 3",
   "language": "python",
   "name": "python3"
  },
  "language_info": {
   "codemirror_mode": {
    "name": "ipython",
    "version": 3
   },
   "file_extension": ".py",
   "mimetype": "text/x-python",
   "name": "python",
   "nbconvert_exporter": "python",
   "pygments_lexer": "ipython3",
   "version": "3.6.1"
  }
 },
 "nbformat": 4,
 "nbformat_minor": 2
}
